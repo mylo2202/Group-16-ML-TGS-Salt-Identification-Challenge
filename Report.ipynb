{
  "nbformat": 4,
  "nbformat_minor": 0,
  "metadata": {
    "kernelspec": {
      "display_name": "Python 3",
      "language": "python",
      "name": "python3"
    },
    "language_info": {
      "codemirror_mode": {
        "name": "ipython",
        "version": 3
      },
      "file_extension": ".py",
      "mimetype": "text/x-python",
      "name": "python",
      "nbconvert_exporter": "python",
      "pygments_lexer": "ipython3",
      "version": "3.8.5"
    },
    "colab": {
      "name": "Report.ipynb",
      "provenance": [],
      "collapsed_sections": [
        "_wLY-Eard3Fk",
        "kxT9X5-vd3Fu"
      ],
      "toc_visible": true
    },
    "accelerator": "GPU",
    "widgets": {
      "application/vnd.jupyter.widget-state+json": {
        "8fe5fcc131524ebab1d425ab3022e5e0": {
          "model_module": "@jupyter-widgets/controls",
          "model_name": "HBoxModel",
          "state": {
            "_view_name": "HBoxView",
            "_dom_classes": [],
            "_model_name": "HBoxModel",
            "_view_module": "@jupyter-widgets/controls",
            "_model_module_version": "1.5.0",
            "_view_count": null,
            "_view_module_version": "1.5.0",
            "box_style": "",
            "layout": "IPY_MODEL_37a6a7aca90f48418818dc933c92e4e6",
            "_model_module": "@jupyter-widgets/controls",
            "children": [
              "IPY_MODEL_7a4d7ea24b12408a9df8c58dbc63adb8",
              "IPY_MODEL_91ee9639a529421895e9bf4670810602"
            ]
          }
        },
        "37a6a7aca90f48418818dc933c92e4e6": {
          "model_module": "@jupyter-widgets/base",
          "model_name": "LayoutModel",
          "state": {
            "_view_name": "LayoutView",
            "grid_template_rows": null,
            "right": null,
            "justify_content": null,
            "_view_module": "@jupyter-widgets/base",
            "overflow": null,
            "_model_module_version": "1.2.0",
            "_view_count": null,
            "flex_flow": null,
            "width": null,
            "min_width": null,
            "border": null,
            "align_items": null,
            "bottom": null,
            "_model_module": "@jupyter-widgets/base",
            "top": null,
            "grid_column": null,
            "overflow_y": null,
            "overflow_x": null,
            "grid_auto_flow": null,
            "grid_area": null,
            "grid_template_columns": null,
            "flex": null,
            "_model_name": "LayoutModel",
            "justify_items": null,
            "grid_row": null,
            "max_height": null,
            "align_content": null,
            "visibility": null,
            "align_self": null,
            "height": null,
            "min_height": null,
            "padding": null,
            "grid_auto_rows": null,
            "grid_gap": null,
            "max_width": null,
            "order": null,
            "_view_module_version": "1.2.0",
            "grid_template_areas": null,
            "object_position": null,
            "object_fit": null,
            "grid_auto_columns": null,
            "margin": null,
            "display": null,
            "left": null
          }
        },
        "7a4d7ea24b12408a9df8c58dbc63adb8": {
          "model_module": "@jupyter-widgets/controls",
          "model_name": "FloatProgressModel",
          "state": {
            "_view_name": "ProgressView",
            "style": "IPY_MODEL_6d56c609f48b4ad3924032628f78e607",
            "_dom_classes": [],
            "description": "100%",
            "_model_name": "FloatProgressModel",
            "bar_style": "success",
            "max": 4000,
            "_view_module": "@jupyter-widgets/controls",
            "_model_module_version": "1.5.0",
            "value": 4000,
            "_view_count": null,
            "_view_module_version": "1.5.0",
            "orientation": "horizontal",
            "min": 0,
            "description_tooltip": null,
            "_model_module": "@jupyter-widgets/controls",
            "layout": "IPY_MODEL_d0ff8fe1c2c64737b55b8c670a601fd4"
          }
        },
        "91ee9639a529421895e9bf4670810602": {
          "model_module": "@jupyter-widgets/controls",
          "model_name": "HTMLModel",
          "state": {
            "_view_name": "HTMLView",
            "style": "IPY_MODEL_9d89d1d0e83745dc967c7dd661157544",
            "_dom_classes": [],
            "description": "",
            "_model_name": "HTMLModel",
            "placeholder": "​",
            "_view_module": "@jupyter-widgets/controls",
            "_model_module_version": "1.5.0",
            "value": " 4000/4000 [00:27&lt;00:00, 146.80it/s]",
            "_view_count": null,
            "_view_module_version": "1.5.0",
            "description_tooltip": null,
            "_model_module": "@jupyter-widgets/controls",
            "layout": "IPY_MODEL_199b833a00ef482fa86837c503d885bb"
          }
        },
        "6d56c609f48b4ad3924032628f78e607": {
          "model_module": "@jupyter-widgets/controls",
          "model_name": "ProgressStyleModel",
          "state": {
            "_view_name": "StyleView",
            "_model_name": "ProgressStyleModel",
            "description_width": "initial",
            "_view_module": "@jupyter-widgets/base",
            "_model_module_version": "1.5.0",
            "_view_count": null,
            "_view_module_version": "1.2.0",
            "bar_color": null,
            "_model_module": "@jupyter-widgets/controls"
          }
        },
        "d0ff8fe1c2c64737b55b8c670a601fd4": {
          "model_module": "@jupyter-widgets/base",
          "model_name": "LayoutModel",
          "state": {
            "_view_name": "LayoutView",
            "grid_template_rows": null,
            "right": null,
            "justify_content": null,
            "_view_module": "@jupyter-widgets/base",
            "overflow": null,
            "_model_module_version": "1.2.0",
            "_view_count": null,
            "flex_flow": null,
            "width": null,
            "min_width": null,
            "border": null,
            "align_items": null,
            "bottom": null,
            "_model_module": "@jupyter-widgets/base",
            "top": null,
            "grid_column": null,
            "overflow_y": null,
            "overflow_x": null,
            "grid_auto_flow": null,
            "grid_area": null,
            "grid_template_columns": null,
            "flex": null,
            "_model_name": "LayoutModel",
            "justify_items": null,
            "grid_row": null,
            "max_height": null,
            "align_content": null,
            "visibility": null,
            "align_self": null,
            "height": null,
            "min_height": null,
            "padding": null,
            "grid_auto_rows": null,
            "grid_gap": null,
            "max_width": null,
            "order": null,
            "_view_module_version": "1.2.0",
            "grid_template_areas": null,
            "object_position": null,
            "object_fit": null,
            "grid_auto_columns": null,
            "margin": null,
            "display": null,
            "left": null
          }
        },
        "9d89d1d0e83745dc967c7dd661157544": {
          "model_module": "@jupyter-widgets/controls",
          "model_name": "DescriptionStyleModel",
          "state": {
            "_view_name": "StyleView",
            "_model_name": "DescriptionStyleModel",
            "description_width": "",
            "_view_module": "@jupyter-widgets/base",
            "_model_module_version": "1.5.0",
            "_view_count": null,
            "_view_module_version": "1.2.0",
            "_model_module": "@jupyter-widgets/controls"
          }
        },
        "199b833a00ef482fa86837c503d885bb": {
          "model_module": "@jupyter-widgets/base",
          "model_name": "LayoutModel",
          "state": {
            "_view_name": "LayoutView",
            "grid_template_rows": null,
            "right": null,
            "justify_content": null,
            "_view_module": "@jupyter-widgets/base",
            "overflow": null,
            "_model_module_version": "1.2.0",
            "_view_count": null,
            "flex_flow": null,
            "width": null,
            "min_width": null,
            "border": null,
            "align_items": null,
            "bottom": null,
            "_model_module": "@jupyter-widgets/base",
            "top": null,
            "grid_column": null,
            "overflow_y": null,
            "overflow_x": null,
            "grid_auto_flow": null,
            "grid_area": null,
            "grid_template_columns": null,
            "flex": null,
            "_model_name": "LayoutModel",
            "justify_items": null,
            "grid_row": null,
            "max_height": null,
            "align_content": null,
            "visibility": null,
            "align_self": null,
            "height": null,
            "min_height": null,
            "padding": null,
            "grid_auto_rows": null,
            "grid_gap": null,
            "max_width": null,
            "order": null,
            "_view_module_version": "1.2.0",
            "grid_template_areas": null,
            "object_position": null,
            "object_fit": null,
            "grid_auto_columns": null,
            "margin": null,
            "display": null,
            "left": null
          }
        },
        "4edc8b005359463c85c813077ecc40a6": {
          "model_module": "@jupyter-widgets/controls",
          "model_name": "HBoxModel",
          "state": {
            "_view_name": "HBoxView",
            "_dom_classes": [],
            "_model_name": "HBoxModel",
            "_view_module": "@jupyter-widgets/controls",
            "_model_module_version": "1.5.0",
            "_view_count": null,
            "_view_module_version": "1.5.0",
            "box_style": "",
            "layout": "IPY_MODEL_0b79639a00e946afb9bbce718fad6cf7",
            "_model_module": "@jupyter-widgets/controls",
            "children": [
              "IPY_MODEL_05aece36d86e4c26b83e24c70a9a9d72",
              "IPY_MODEL_20fe1a9e97f249d4b0a7f84f35ce6700"
            ]
          }
        },
        "0b79639a00e946afb9bbce718fad6cf7": {
          "model_module": "@jupyter-widgets/base",
          "model_name": "LayoutModel",
          "state": {
            "_view_name": "LayoutView",
            "grid_template_rows": null,
            "right": null,
            "justify_content": null,
            "_view_module": "@jupyter-widgets/base",
            "overflow": null,
            "_model_module_version": "1.2.0",
            "_view_count": null,
            "flex_flow": null,
            "width": null,
            "min_width": null,
            "border": null,
            "align_items": null,
            "bottom": null,
            "_model_module": "@jupyter-widgets/base",
            "top": null,
            "grid_column": null,
            "overflow_y": null,
            "overflow_x": null,
            "grid_auto_flow": null,
            "grid_area": null,
            "grid_template_columns": null,
            "flex": null,
            "_model_name": "LayoutModel",
            "justify_items": null,
            "grid_row": null,
            "max_height": null,
            "align_content": null,
            "visibility": null,
            "align_self": null,
            "height": null,
            "min_height": null,
            "padding": null,
            "grid_auto_rows": null,
            "grid_gap": null,
            "max_width": null,
            "order": null,
            "_view_module_version": "1.2.0",
            "grid_template_areas": null,
            "object_position": null,
            "object_fit": null,
            "grid_auto_columns": null,
            "margin": null,
            "display": null,
            "left": null
          }
        },
        "05aece36d86e4c26b83e24c70a9a9d72": {
          "model_module": "@jupyter-widgets/controls",
          "model_name": "FloatProgressModel",
          "state": {
            "_view_name": "ProgressView",
            "style": "IPY_MODEL_041c0ddbcd1045258268d6a84f97b438",
            "_dom_classes": [],
            "description": "100%",
            "_model_name": "FloatProgressModel",
            "bar_style": "success",
            "max": 50,
            "_view_module": "@jupyter-widgets/controls",
            "_model_module_version": "1.5.0",
            "value": 50,
            "_view_count": null,
            "_view_module_version": "1.5.0",
            "orientation": "horizontal",
            "min": 0,
            "description_tooltip": null,
            "_model_module": "@jupyter-widgets/controls",
            "layout": "IPY_MODEL_1309ee75062342edadced42eb8c1977c"
          }
        },
        "20fe1a9e97f249d4b0a7f84f35ce6700": {
          "model_module": "@jupyter-widgets/controls",
          "model_name": "HTMLModel",
          "state": {
            "_view_name": "HTMLView",
            "style": "IPY_MODEL_4ce6b52937bd42369b6e791d90f3987b",
            "_dom_classes": [],
            "description": "",
            "_model_name": "HTMLModel",
            "placeholder": "​",
            "_view_module": "@jupyter-widgets/controls",
            "_model_module_version": "1.5.0",
            "value": " 50/50 [00:51&lt;00:00,  1.03s/it]",
            "_view_count": null,
            "_view_module_version": "1.5.0",
            "description_tooltip": null,
            "_model_module": "@jupyter-widgets/controls",
            "layout": "IPY_MODEL_3c82a99a25cd4a8c9367c002f3e5a4c8"
          }
        },
        "041c0ddbcd1045258268d6a84f97b438": {
          "model_module": "@jupyter-widgets/controls",
          "model_name": "ProgressStyleModel",
          "state": {
            "_view_name": "StyleView",
            "_model_name": "ProgressStyleModel",
            "description_width": "initial",
            "_view_module": "@jupyter-widgets/base",
            "_model_module_version": "1.5.0",
            "_view_count": null,
            "_view_module_version": "1.2.0",
            "bar_color": null,
            "_model_module": "@jupyter-widgets/controls"
          }
        },
        "1309ee75062342edadced42eb8c1977c": {
          "model_module": "@jupyter-widgets/base",
          "model_name": "LayoutModel",
          "state": {
            "_view_name": "LayoutView",
            "grid_template_rows": null,
            "right": null,
            "justify_content": null,
            "_view_module": "@jupyter-widgets/base",
            "overflow": null,
            "_model_module_version": "1.2.0",
            "_view_count": null,
            "flex_flow": null,
            "width": null,
            "min_width": null,
            "border": null,
            "align_items": null,
            "bottom": null,
            "_model_module": "@jupyter-widgets/base",
            "top": null,
            "grid_column": null,
            "overflow_y": null,
            "overflow_x": null,
            "grid_auto_flow": null,
            "grid_area": null,
            "grid_template_columns": null,
            "flex": null,
            "_model_name": "LayoutModel",
            "justify_items": null,
            "grid_row": null,
            "max_height": null,
            "align_content": null,
            "visibility": null,
            "align_self": null,
            "height": null,
            "min_height": null,
            "padding": null,
            "grid_auto_rows": null,
            "grid_gap": null,
            "max_width": null,
            "order": null,
            "_view_module_version": "1.2.0",
            "grid_template_areas": null,
            "object_position": null,
            "object_fit": null,
            "grid_auto_columns": null,
            "margin": null,
            "display": null,
            "left": null
          }
        },
        "4ce6b52937bd42369b6e791d90f3987b": {
          "model_module": "@jupyter-widgets/controls",
          "model_name": "DescriptionStyleModel",
          "state": {
            "_view_name": "StyleView",
            "_model_name": "DescriptionStyleModel",
            "description_width": "",
            "_view_module": "@jupyter-widgets/base",
            "_model_module_version": "1.5.0",
            "_view_count": null,
            "_view_module_version": "1.2.0",
            "_model_module": "@jupyter-widgets/controls"
          }
        },
        "3c82a99a25cd4a8c9367c002f3e5a4c8": {
          "model_module": "@jupyter-widgets/base",
          "model_name": "LayoutModel",
          "state": {
            "_view_name": "LayoutView",
            "grid_template_rows": null,
            "right": null,
            "justify_content": null,
            "_view_module": "@jupyter-widgets/base",
            "overflow": null,
            "_model_module_version": "1.2.0",
            "_view_count": null,
            "flex_flow": null,
            "width": null,
            "min_width": null,
            "border": null,
            "align_items": null,
            "bottom": null,
            "_model_module": "@jupyter-widgets/base",
            "top": null,
            "grid_column": null,
            "overflow_y": null,
            "overflow_x": null,
            "grid_auto_flow": null,
            "grid_area": null,
            "grid_template_columns": null,
            "flex": null,
            "_model_name": "LayoutModel",
            "justify_items": null,
            "grid_row": null,
            "max_height": null,
            "align_content": null,
            "visibility": null,
            "align_self": null,
            "height": null,
            "min_height": null,
            "padding": null,
            "grid_auto_rows": null,
            "grid_gap": null,
            "max_width": null,
            "order": null,
            "_view_module_version": "1.2.0",
            "grid_template_areas": null,
            "object_position": null,
            "object_fit": null,
            "grid_auto_columns": null,
            "margin": null,
            "display": null,
            "left": null
          }
        }
      }
    }
  },
  "cells": [
    {
      "cell_type": "markdown",
      "metadata": {
        "id": "0Y5eKYvod3FI"
      },
      "source": [
        "# **TGS Salt Identification Challenge**\n",
        "### Segment salt deposits beneath the Earth's surface"
      ]
    },
    {
      "cell_type": "markdown",
      "metadata": {
        "id": "PxU6ROEEd3FV"
      },
      "source": [
        "## Competition Site"
      ]
    },
    {
      "cell_type": "markdown",
      "metadata": {
        "id": "nF6KtGr5d3FY"
      },
      "source": [
        "Description, Evaluation, and Data Set taken from the [competition site](https://www.kaggle.com/c/tgs-salt-identification-challenge)."
      ]
    },
    {
      "cell_type": "markdown",
      "metadata": {
        "id": "DDoapLTAd3FZ"
      },
      "source": [
        "## Description"
      ]
    },
    {
      "cell_type": "markdown",
      "metadata": {
        "id": "Mwvky4Atd3Fa"
      },
      "source": [
        "![alt text](https://www.tgs.com/hubfs/Archives%202016-2019/2018/2018%20TGS/Mega%20Menu%20Data%20Library.png)"
      ]
    },
    {
      "cell_type": "markdown",
      "metadata": {
        "id": "hyJ0s0Z5d3Fb"
      },
      "source": [
        "Several areas of Earth with large accumulations of oil and gas also have huge deposits of salt below the surface.\n",
        "\n",
        "But unfortunately, knowing where large salt deposits are precisely is very difficult. Professional seismic imaging still requires expert human interpretation of salt bodies. This leads to very subjective, highly variable renderings. More alarmingly, it leads to potentially dangerous situations for oil and gas company drillers.\n",
        "\n",
        "To create the most accurate seismic images and 3D renderings, [TGS (the world’s leading geoscience data company)](https://www.tgs.com/) is hoping Kaggle’s machine learning community will be able to build an algorithm that automatically and accurately identifies if a subsurface target is salt or not."
      ]
    },
    {
      "cell_type": "markdown",
      "metadata": {
        "id": "ZjBoUDerd3Fc"
      },
      "source": [
        "## Evaluation"
      ]
    },
    {
      "cell_type": "markdown",
      "metadata": {
        "id": "NH6T_cjed3Fd"
      },
      "source": [
        "This competition is evaluated on the mean average precision at different intersection over union  thresholds. The **IoU** of a proposed set of object pixels and a set of true object pixels is calculated as:\n",
        "\n",
        "### $$\\color{blue}{IoU(A, B)=\\frac{A \\cap B}{A \\cup B}}$$\n",
        "\n",
        "The metric sweeps over a range of IoU thresholds, at each point calculating an average precision value. The threshold values range from 0.5 to 0.95 with a step size of 0.05: (0.5, 0.55, 0.6, 0.65, 0.7, 0.75, 0.8, 0.85, 0.9, 0.95). In other words, at a threshold of 0.5, a predicted object is considered a \"hit\" if its intersection over union with a ground truth object is greater than 0.5.\n",
        "\n",
        "At each threshold value **t**, a precision value is calculated based on the number of true positives **TP**, false negatives **FN**, and false positives **FP** resulting from comparing the predicted object to all ground truth objects:\n",
        "\n",
        "### $$\\color{blue}{\\frac{TP(t)}{TP(t) + FP(t) + FN(t)}}$$\n",
        "\n",
        "A true positive is counted when a single predicted object matches a ground truth object with an IoU above the threshold. A false positive indicates a predicted object had no associated ground truth object. A false negative indicates a ground truth object had no associated predicted object. The average precision of a single image is then calculated as the mean of the above precision values at each IoU threshold:\n",
        "\n",
        "### $$\\color{blue}{\\frac{1}{|thresholds|}\\sum_{t}\\frac{TP(t)}{TP(t) + FP(t) + FN(t)}}$$\n",
        "\n",
        "Lastly, the score returned by the competition metric is the mean taken over the individual average precisions of each image in the test dataset."
      ]
    },
    {
      "cell_type": "markdown",
      "metadata": {
        "id": "sOc0o-Kxd3Fe"
      },
      "source": [
        "## Data Set\n",
        "### Background\n",
        "Seismic data is collected using reflection seismology, or seismic reflection. The method requires a controlled seismic source of energy, such as compressed air or a seismic vibrator, and sensors record the reflection from rock interfaces within the subsurface. The recorded data is then processed to create a 3D view of earth’s interior. Reflection seismology is similar to X-ray, sonar and echolocation.\n",
        "\n",
        "A seismic image is produced from imaging the reflection coming from rock boundaries. The seismic image shows the boundaries between different rock types. In theory, the strength of reflection is directly proportional to the difference in the physical properties on either sides of the interface. While seismic images show rock boundaries, they don't say much about the rock themselves; some rocks are easy to identify while some are difficult.\n",
        "\n",
        "There are several areas of the world where there are vast quantities of salt in the subsurface. One of the challenges of seismic imaging is to identify the part of subsurface which is salt. Salt has characteristics that makes it both simple and hard to identify. Salt density is usually 2.14 g/cc which is lower than most surrounding rocks. The seismic velocity of salt is 4.5 km/sec, which is usually faster than its surrounding rocks. This difference creates a sharp reflection at the salt-sediment interface. Usually salt is an amorphous rock without much internal structure. This means that there is typically not much reflectivity inside the salt, unless there are sediments trapped inside it. The unusually high seismic velocity of salt can create problems with seismic imaging.\n",
        "\n",
        "### Data\n",
        "The data is a set of images chosen at various locations chosen at random in the subsurface. The images are 101 x 101 pixels and each pixel is classified as either salt or sediment. In addition to the seismic images, the depth of the imaged location is provided for each image. The goal of the competition is to segment regions that contain salt.\n",
        "\n"
      ]
    },
    {
      "cell_type": "markdown",
      "metadata": {
        "id": "tjyMeKM9d3Ff"
      },
      "source": [
        "## Download dataset"
      ]
    },
    {
      "cell_type": "code",
      "metadata": {
        "id": "89fu1_0vd3Fg"
      },
      "source": [
        "!pip install -q kaggle"
      ],
      "execution_count": null,
      "outputs": []
    },
    {
      "cell_type": "code",
      "metadata": {
        "id": "2tPP1Ocqd3Fh",
        "colab": {
          "resources": {
            "http://localhost:8080/nbextensions/google.colab/files.js": {
              "data": "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",
              "ok": true,
              "headers": [
                [
                  "content-type",
                  "application/javascript"
                ]
              ],
              "status": 200,
              "status_text": ""
            }
          },
          "base_uri": "https://localhost:8080/",
          "height": 93
        },
        "outputId": "8a847a7d-a174-403f-8406-9c6e612960e4"
      },
      "source": [
        "from google.colab import files\n",
        "files.upload()"
      ],
      "execution_count": null,
      "outputs": [
        {
          "output_type": "display_data",
          "data": {
            "text/html": [
              "\n",
              "     <input type=\"file\" id=\"files-18f94002-a9d7-49e2-b3a5-f5d72462f228\" name=\"files[]\" multiple disabled\n",
              "        style=\"border:none\" />\n",
              "     <output id=\"result-18f94002-a9d7-49e2-b3a5-f5d72462f228\">\n",
              "      Upload widget is only available when the cell has been executed in the\n",
              "      current browser session. Please rerun this cell to enable.\n",
              "      </output>\n",
              "      <script src=\"/nbextensions/google.colab/files.js\"></script> "
            ],
            "text/plain": [
              "<IPython.core.display.HTML object>"
            ]
          },
          "metadata": {
            "tags": []
          }
        },
        {
          "output_type": "stream",
          "text": [
            "Saving kaggle.json to kaggle (1).json\n"
          ],
          "name": "stdout"
        },
        {
          "output_type": "execute_result",
          "data": {
            "text/plain": [
              "{'kaggle.json': b'{\"username\":\"mylo2202\",\"key\":\"6de40906d33ce9877d0bd17990ca7040\"}'}"
            ]
          },
          "metadata": {
            "tags": []
          },
          "execution_count": 9
        }
      ]
    },
    {
      "cell_type": "code",
      "metadata": {
        "id": "qYFvt6Szd3Fi",
        "colab": {
          "base_uri": "https://localhost:8080/"
        },
        "outputId": "0d8cb296-79fb-4f96-9674-b0acc1820e49"
      },
      "source": [
        "! mkdir ~/.kaggle\n",
        "! cp kaggle.json ~/.kaggle/\n",
        "! chmod 600 ~/.kaggle/kaggle.json"
      ],
      "execution_count": null,
      "outputs": [
        {
          "output_type": "stream",
          "text": [
            "mkdir: cannot create directory ‘/root/.kaggle’: File exists\n"
          ],
          "name": "stdout"
        }
      ]
    },
    {
      "cell_type": "code",
      "metadata": {
        "id": "O2P-lfbNd3Fj",
        "colab": {
          "base_uri": "https://localhost:8080/"
        },
        "outputId": "2cebef88-9e1a-418d-c200-3159e8d6ad94"
      },
      "source": [
        "!kaggle competitions download -c tgs-salt-identification-challenge"
      ],
      "execution_count": null,
      "outputs": [
        {
          "output_type": "stream",
          "text": [
            "Warning: Looks like you're using an outdated API Version, please consider updating (server 1.5.12 / client 1.5.4)\n",
            "train.zip: Skipping, found more recently modified local copy (use --force to force download)\n",
            "train.csv: Skipping, found more recently modified local copy (use --force to force download)\n",
            "competition_data.zip: Skipping, found more recently modified local copy (use --force to force download)\n",
            "flamingo.zip: Skipping, found more recently modified local copy (use --force to force download)\n",
            "test.zip: Skipping, found more recently modified local copy (use --force to force download)\n",
            "sample_submission.csv: Skipping, found more recently modified local copy (use --force to force download)\n",
            "depths.csv: Skipping, found more recently modified local copy (use --force to force download)\n"
          ],
          "name": "stdout"
        }
      ]
    },
    {
      "cell_type": "code",
      "metadata": {
        "id": "rmISuunnd3Fj",
        "colab": {
          "base_uri": "https://localhost:8080/"
        },
        "outputId": "9cba3f9f-2934-4ef7-9c1a-769b35a50388"
      },
      "source": [
        "!unzip -q train.zip -d train\n",
        "!unzip -q test.zip -d test"
      ],
      "execution_count": null,
      "outputs": [
        {
          "output_type": "stream",
          "text": [
            "replace train/images/8d08955cdf.png? [y]es, [n]o, [A]ll, [N]one, [r]ename: N\n",
            "replace test/images/8cf16aa0f5.png? [y]es, [n]o, [A]ll, [N]one, [r]ename: A\n"
          ],
          "name": "stdout"
        }
      ]
    },
    {
      "cell_type": "markdown",
      "metadata": {
        "id": "_wLY-Eard3Fk"
      },
      "source": [
        "## Import Library"
      ]
    },
    {
      "cell_type": "markdown",
      "metadata": {
        "id": "StJ6VxJgmRCs"
      },
      "source": [
        "# New Section"
      ]
    },
    {
      "cell_type": "code",
      "metadata": {
        "id": "zbSC-KgHd3Fk"
      },
      "source": [
        "import os\n",
        "import numpy as np\n",
        "import pandas as pd\n",
        "import matplotlib.pyplot as plt\n",
        "import random\n",
        "from skimage.transform import resize\n",
        "\n",
        "from tqdm import tqdm_notebook\n",
        "from tqdm.auto import trange, tqdm\n",
        "\n",
        "import tensorflow as tf\n",
        "# from tensorflow import keras\n",
        "from keras.layers import Layer, Input, Activation\n",
        "from keras import backend as K\n",
        "from keras import utils\n",
        "from keras.models import Model, load_model\n",
        "from keras.layers.convolutional import Conv2D, Conv2DTranspose, UpSampling2D\n",
        "from keras.layers.pooling import MaxPooling2D\n",
        "from keras.layers.merge import concatenate, add\n",
        "from keras.layers.normalization import BatchNormalization\n",
        "from keras.layers import Dropout\n",
        "from keras.callbacks import EarlyStopping, ModelCheckpoint, ReduceLROnPlateau\n",
        "from keras.optimizers import Adam\n",
        "from keras.preprocessing.image import img_to_array, load_img\n",
        "\n",
        "from tensorflow.keras import layers"
      ],
      "execution_count": null,
      "outputs": []
    },
    {
      "cell_type": "markdown",
      "metadata": {
        "id": "U4n9W2kSd3Fl"
      },
      "source": [
        "## Preprocessing data and split data"
      ]
    },
    {
      "cell_type": "markdown",
      "metadata": {
        "id": "w-Si3LDKd3Fl"
      },
      "source": [
        "Lets see the number of images in each file:"
      ]
    },
    {
      "cell_type": "code",
      "metadata": {
        "id": "bYH4aBZzd3Fm",
        "colab": {
          "base_uri": "https://localhost:8080/"
        },
        "outputId": "c83ace70-182b-488d-e2fc-c804518b3a36"
      },
      "source": [
        "data_dir = '/content'\n",
        "print('Number images in train data: ', len(os.listdir(data_dir + '/train/images')))\n",
        "print('Number maskes in train data: ', len(os.listdir(data_dir + '/train/masks')))\n",
        "print('Number images in test data: ', len(os.listdir(data_dir + '/test/images')))"
      ],
      "execution_count": null,
      "outputs": [
        {
          "output_type": "stream",
          "text": [
            "Number images in train data:  4000\n",
            "Number maskes in train data:  4000\n",
            "Number images in test data:  18000\n"
          ],
          "name": "stdout"
        }
      ]
    },
    {
      "cell_type": "code",
      "metadata": {
        "id": "KCIJEnV7d3Fm",
        "colab": {
          "base_uri": "https://localhost:8080/"
        },
        "outputId": "56d943d7-3b28-4ebf-94f1-359b58ee1545"
      },
      "source": [
        "train_mask = pd.read_csv('/content/train.csv')\n",
        "depth = pd.read_csv('/content/depths.csv')\n",
        "train_path = \"./\"\n",
        "file_list = list(train_mask['id'].values)\n",
        "len(file_list)"
      ],
      "execution_count": null,
      "outputs": [
        {
          "output_type": "execute_result",
          "data": {
            "text/plain": [
              "4000"
            ]
          },
          "metadata": {
            "tags": []
          },
          "execution_count": 15
        }
      ]
    },
    {
      "cell_type": "markdown",
      "metadata": {
        "id": "ldV1FQo1d3Fn"
      },
      "source": [
        "Load image, resize shape from (101, 101, 1) to (128, 128, 1) and normalize values of pixel from (0,255) to (0, 1)"
      ]
    },
    {
      "cell_type": "code",
      "metadata": {
        "id": "5rUdvk1md3Fo",
        "colab": {
          "base_uri": "https://localhost:8080/",
          "height": 179,
          "referenced_widgets": [
            "8fe5fcc131524ebab1d425ab3022e5e0",
            "37a6a7aca90f48418818dc933c92e4e6",
            "7a4d7ea24b12408a9df8c58dbc63adb8",
            "91ee9639a529421895e9bf4670810602",
            "6d56c609f48b4ad3924032628f78e607",
            "d0ff8fe1c2c64737b55b8c670a601fd4",
            "9d89d1d0e83745dc967c7dd661157544",
            "199b833a00ef482fa86837c503d885bb"
          ]
        },
        "outputId": "88294e80-32e9-4ee0-d1d0-791568236d47"
      },
      "source": [
        "X = np.zeros((len(file_list), 128, 128, 1), dtype=np.float32)\n",
        "y = np.zeros((len(file_list), 128, 128, 1), dtype=np.float32)\n",
        "\n",
        "for n, id_ in tqdm_notebook(enumerate(train_mask['id']), total=len(file_list)):\n",
        "    img = load_img(\"/content/train/images/\" + id_ + '.png', grayscale=True)\n",
        "    x_img = img_to_array(img)\n",
        "    x_img = resize(x_img, (128, 128, 1), mode = 'constant', preserve_range = True)\n",
        "    # Load masks\n",
        "    mask = img_to_array(load_img(\"/content/train/masks/\" + id_ + '.png', grayscale=True))\n",
        "    mask = resize(mask, (128, 128, 1), mode = 'constant', preserve_range = True)\n",
        "    # Save images\n",
        "    X[n] = x_img/255.0\n",
        "    y[n] = mask/65535.0"
      ],
      "execution_count": null,
      "outputs": [
        {
          "output_type": "stream",
          "text": [
            "/usr/local/lib/python3.7/dist-packages/ipykernel_launcher.py:4: TqdmDeprecationWarning: This function will be removed in tqdm==5.0.0\n",
            "Please use `tqdm.notebook.tqdm` instead of `tqdm.tqdm_notebook`\n",
            "  after removing the cwd from sys.path.\n"
          ],
          "name": "stderr"
        },
        {
          "output_type": "display_data",
          "data": {
            "application/vnd.jupyter.widget-view+json": {
              "model_id": "8fe5fcc131524ebab1d425ab3022e5e0",
              "version_minor": 0,
              "version_major": 2
            },
            "text/plain": [
              "HBox(children=(FloatProgress(value=0.0, max=4000.0), HTML(value='')))"
            ]
          },
          "metadata": {
            "tags": []
          }
        },
        {
          "output_type": "stream",
          "text": [
            "/usr/local/lib/python3.7/dist-packages/keras_preprocessing/image/utils.py:107: UserWarning: grayscale is deprecated. Please use color_mode = \"grayscale\"\n",
            "  warnings.warn('grayscale is deprecated. Please use '\n"
          ],
          "name": "stderr"
        },
        {
          "output_type": "stream",
          "text": [
            "\n"
          ],
          "name": "stdout"
        }
      ]
    },
    {
      "cell_type": "markdown",
      "metadata": {
        "id": "Wba63ad1d3Fp"
      },
      "source": [
        "Because the number of images in the trainset is less than that in the testset so I generated image in trainset after split train data and validation data to evaluation model."
      ]
    },
    {
      "cell_type": "code",
      "metadata": {
        "id": "XDhSOKNEd3Fp",
        "colab": {
          "base_uri": "https://localhost:8080/"
        },
        "outputId": "d7326724-9e4b-48d8-d558-98bf8f2ada55"
      },
      "source": [
        "X_train = X[:int(0.85*len(X))]\n",
        "y_train = y[:int(0.85*len(X))]\n",
        "X_val  = X[int(0.85*len(X)):]\n",
        "y_val  = y[int(0.85*len(X)):]\n",
        "\n",
        "X_train = np.append(X_train, [np.fliplr(x) for x in X], axis=0)\n",
        "y_train = np.append(y_train, [np.fliplr(x) for x in y], axis=0)\n",
        "X_train = np.append(X_train, [np.flipud(x) for x in X], axis=0)\n",
        "y_train = np.append(y_train, [np.flipud(x) for x in y], axis=0)\n",
        "\n",
        "print('X train shape:', X_train.shape, 'X eval shape:', X_val.shape)\n",
        "print('Y train shape:', y_train.shape, 'Y eval shape:', y_val.shape)"
      ],
      "execution_count": null,
      "outputs": [
        {
          "output_type": "stream",
          "text": [
            "X train shape: (11400, 128, 128, 1) X eval shape: (600, 128, 128, 1)\n",
            "Y train shape: (11400, 128, 128, 1) Y eval shape: (600, 128, 128, 1)\n"
          ],
          "name": "stdout"
        }
      ]
    },
    {
      "cell_type": "markdown",
      "metadata": {
        "id": "5a8E5Y5dd3Fq"
      },
      "source": [
        "## Visualization image"
      ]
    },
    {
      "cell_type": "code",
      "metadata": {
        "id": "XiZT9mRZd3Fq",
        "colab": {
          "base_uri": "https://localhost:8080/",
          "height": 405
        },
        "outputId": "30e426af-7945-41ee-c4ab-bd12f973b589"
      },
      "source": [
        "# Visualize any randome image along with the mask\n",
        "ix = random.randint(0, len(X_train))\n",
        "print(ix)\n",
        "has_mask = y_train[ix].max() > 0 # salt indicator\n",
        "\n",
        "fig, ax = plt.subplots(1, 2, figsize = (12, 8))\n",
        "\n",
        "ax[0].imshow(X_train[ix, ..., 0], cmap = 'seismic', interpolation = 'bilinear')\n",
        "if has_mask: # if salt\n",
        "    # draw a boundary(contour) in the original image separating salt and non-salt areas\n",
        "    ax[0].contour(y_train[ix].squeeze(), colors = 'k', linewidths = 5, levels = [0.5])\n",
        "ax[0].set_title('Seismic')\n",
        "\n",
        "ax[1].imshow(y_train[ix].squeeze(), cmap = 'gray', interpolation = 'bilinear')\n",
        "ax[1].set_title('Salt')"
      ],
      "execution_count": null,
      "outputs": [
        {
          "output_type": "stream",
          "text": [
            "427\n"
          ],
          "name": "stdout"
        },
        {
          "output_type": "execute_result",
          "data": {
            "text/plain": [
              "Text(0.5, 1.0, 'Salt')"
            ]
          },
          "metadata": {
            "tags": []
          },
          "execution_count": 18
        },
        {
          "output_type": "display_data",
          "data": {
            "image/png": "[encoded data removed]",
            "text/plain": [
              "<Figure size 864x576 with 2 Axes>"
            ]
          },
          "metadata": {
            "tags": [],
            "needs_background": "light"
          }
        }
      ]
    },
    {
      "cell_type": "markdown",
      "metadata": {
        "id": "KU2qM7GMd3Fr"
      },
      "source": [
        "## Loss function,  Metric Evaluation and Helper Func"
      ]
    },
    {
      "cell_type": "code",
      "metadata": {
        "id": "BN5A9vU1d3Fr"
      },
      "source": [
        "from tensorflow.keras.losses import binary_crossentropy\n",
        "\n",
        "# F1-score or Dice coef\n",
        "def dice_coefficient(y_true, y_pred):\n",
        "    numerator = 2 * tf.reduce_sum(y_true * y_pred)\n",
        "    denominator = tf.reduce_sum(y_true + y_pred)\n",
        "    return numerator / (denominator + tf.keras.backend.epsilon())"
      ],
      "execution_count": null,
      "outputs": []
    },
    {
      "cell_type": "code",
      "metadata": {
        "id": "wIBf0QsUd3Fs"
      },
      "source": [
        "def iou_metric(labels, y_pred):\n",
        "    true_objects = 2\n",
        "    pred_objects = 2\n",
        "\n",
        "    intersection = np.histogram2d(labels.flatten(), y_pred.flatten(), bins=(true_objects, pred_objects))[0]\n",
        "\n",
        "    # Compute areas (needed for finding the union between all objects)\n",
        "    area_true = np.histogram(labels, bins = true_objects)[0]\n",
        "    area_pred = np.histogram(y_pred, bins = pred_objects)[0]\n",
        "    area_true = np.expand_dims(area_true, -1)\n",
        "    area_pred = np.expand_dims(area_pred, 0)\n",
        "\n",
        "    # Compute union\n",
        "    union = area_true + area_pred - intersection\n",
        "\n",
        "    # Exclude background from the analysis\n",
        "    intersection = intersection[1:,1:]\n",
        "    union = union[1:,1:]\n",
        "    union[union == 0] = 1e-9\n",
        "\n",
        "    # Compute the intersection over union\n",
        "    iou = intersection / union\n",
        "\n",
        "    # Precision helper function\n",
        "    def precision_at(threshold, iou):\n",
        "        matches = iou > threshold\n",
        "        true_positives = np.sum(matches, axis=1) == 1   # Correct objects\n",
        "        false_positives = np.sum(matches, axis=0) == 0  # Missed objects\n",
        "        false_negatives = np.sum(matches, axis=1) == 0  # Extra objects\n",
        "        tp, fp, fn = np.sum(true_positives), np.sum(false_positives), np.sum(false_negatives)\n",
        "        return tp, fp, fn\n",
        "\n",
        "    # Loop over IoU thresholds\n",
        "    prec = []\n",
        "    for t in np.arange(0.5, 1.0, 0.05):\n",
        "        tp, fp, fn = precision_at(t, iou)\n",
        "        if (tp + fp + fn) > 0:\n",
        "            p = tp / (tp + fp + fn)\n",
        "        else:\n",
        "            p = 0\n",
        "        prec.append(p)\n",
        "    return np.mean(prec)\n",
        "\n",
        "def iou_metric_batch(labels, y_pred):\n",
        "    batch_size = labels.shape[0]\n",
        "    metric = []\n",
        "    for batch in range(batch_size):\n",
        "        value = iou_metric(labels[batch], y_pred[batch])\n",
        "        metric.append(value)\n",
        "    return np.mean(metric)"
      ],
      "execution_count": null,
      "outputs": []
    },
    {
      "cell_type": "code",
      "metadata": {
        "id": "XggtMRWsd3Ft"
      },
      "source": [
        "def evaluaWithVal(mod, X_val, y_val):\n",
        "    preds_eval = mod.predict(X_val, verbose=1)\n",
        "\n",
        "    thresholds = np.linspace(0, 1, 50)\n",
        "    ious = np.array([iou_metric_batch(y_val, np.int32(preds_eval > threshold)) for threshold in tqdm(thresholds)])\n",
        "\n",
        "    threshold_best_index = np.argmax(ious[9:-10]) + 9\n",
        "    iou_best = ious[threshold_best_index]\n",
        "    threshold_best = thresholds[threshold_best_index]\n",
        "\n",
        "    plt.plot(thresholds, ious)\n",
        "    plt.plot(threshold_best, iou_best, \"xr\", label=\"Best threshold\")\n",
        "    plt.xlabel(\"Threshold\")\n",
        "    plt.ylabel(\"IoU\")\n",
        "    plt.title(\"Threshold vs IoU ({}, {})\".format(threshold_best, iou_best))\n",
        "    plt.legend();\n",
        "\n",
        "    return threshold_best"
      ],
      "execution_count": null,
      "outputs": []
    },
    {
      "cell_type": "code",
      "metadata": {
        "id": "aTGL864Md3Fu"
      },
      "source": [
        "def buildModel(mod, summary= False, plot_model= False):\n",
        "    input_img = Input((128, 128, 1))\n",
        "    model = mod(input_img)\n",
        "    model.compile(optimizer= Adam(learning_rate= 0.005), loss= binary_crossentropy, metrics= [dice_coefficient])\n",
        "    if summary == True:\n",
        "        model.summary()\n",
        "    if plot_model == True:\n",
        "        utils.plot_model(model, expand_nested=True, show_shapes=True)\n",
        "        \n",
        "    return model"
      ],
      "execution_count": null,
      "outputs": []
    },
    {
      "cell_type": "markdown",
      "metadata": {
        "id": "kxT9X5-vd3Fu"
      },
      "source": [
        "## Model"
      ]
    },
    {
      "cell_type": "markdown",
      "metadata": {
        "id": "HTgu0PAfd3Fv"
      },
      "source": [
        "## Unet v1: Basic Unet"
      ]
    },
    {
      "cell_type": "markdown",
      "metadata": {
        "id": "7yi6c4kNd3Fv"
      },
      "source": [
        "![alt text](https://imgur.com/lKZGO0C.png)"
      ]
    },
    {
      "cell_type": "code",
      "metadata": {
        "id": "Bdp7kPHqd3Fv"
      },
      "source": [
        "def conv_block(tensor, n_filter, kernel_size = 3, batchnorm= True):\n",
        "    # Conv layer 1\n",
        "    x = Conv2D(n_filter, kernel_size= (kernel_size, kernel_size), padding= 'same')(tensor)\n",
        "    if batchnorm:\n",
        "        x = BatchNormalization()(x)\n",
        "    x = Activation('relu')(x)\n",
        "    \n",
        "    # Conv layer 2\n",
        "    x = Conv2D(n_filter, kernel_size= (kernel_size, kernel_size), padding= 'same')(tensor)\n",
        "    if batchnorm:\n",
        "        x = BatchNormalization()(x)\n",
        "    x = Activation('relu')(x)\n",
        "\n",
        "    return x"
      ],
      "execution_count": null,
      "outputs": []
    },
    {
      "cell_type": "code",
      "metadata": {
        "id": "vkqb9aPwd3Fw"
      },
      "source": [
        "def encode_block(tensor, n_filter, kernel_size = 3, batchnorm= True, drop= 0.2):\n",
        "    # Conv Block\n",
        "    conv = conv_block(tensor= tensor, n_filter= n_filter, kernel_size= kernel_size, batchnorm= batchnorm)\n",
        "    # Max Pooling layer\n",
        "    res = MaxPooling2D((2, 2))(conv)\n",
        "    res = Dropout(drop)(res)\n",
        "    return conv, res"
      ],
      "execution_count": null,
      "outputs": []
    },
    {
      "cell_type": "code",
      "metadata": {
        "id": "_SPJB2h4d3Fw"
      },
      "source": [
        "def decode_block(input_layer, concat_layer, n_filter, kernel_size = 3, batchnorm= True, drop= 0.15):\n",
        "    convtrans = Conv2DTranspose(filters= n_filter, kernel_size= (kernel_size, kernel_size),\n",
        "                        strides= (2, 2), padding= 'same')(input_layer)\n",
        "    convtrans = concatenate([convtrans, concat_layer])\n",
        "    convtrans = Dropout(drop)(convtrans)\n",
        "    dec = conv_block(convtrans, n_filter= n_filter, kernel_size= kernel_size, batchnorm= batchnorm)\n",
        "\n",
        "    return dec"
      ],
      "execution_count": null,
      "outputs": []
    },
    {
      "cell_type": "code",
      "metadata": {
        "id": "FIUM2X4zd3Fx"
      },
      "source": [
        "def Unetv1(input_image):\n",
        "    # Left U\n",
        "    conv1, res1 = encode_block(input_image, 16, kernel_size= 3, batchnorm= True, drop = 0.1)\n",
        "    conv2, res2 = encode_block(res1, 32, kernel_size= 3, batchnorm= True, drop = 0.1)\n",
        "    conv3, res3 = encode_block(res2, 64, kernel_size= 3, batchnorm= True, drop = 0.1)\n",
        "    conv4, res4 = encode_block(res3, 128, kernel_size= 3, batchnorm= True, drop = 0.1)\n",
        "    conv5 = conv_block(res4, 256, kernel_size= 3, batchnorm= True)\n",
        "\n",
        "    # Right U\n",
        "    dec1 = decode_block(conv5, conv4, n_filter= 128, kernel_size= 3, batchnorm= True, drop= 0.1)\n",
        "    dec2 = decode_block(dec1, conv3, n_filter= 64, kernel_size= 3, batchnorm= True, drop= 0.1)\n",
        "    dec3 = decode_block(dec2, conv2, n_filter= 32, kernel_size= 3, batchnorm= True, drop= 0.1)\n",
        "    dec4 = decode_block(dec3, conv1, n_filter= 16, kernel_size= 3, batchnorm= True, drop= 0.1)\n",
        "\n",
        "    # Output\n",
        "    outputs = Conv2D(1, (1, 1), activation='sigmoid')(dec4)\n",
        "    model = Model(inputs=[input_image], outputs=[outputs])\n",
        "\n",
        "    return model"
      ],
      "execution_count": null,
      "outputs": []
    },
    {
      "cell_type": "code",
      "metadata": {
        "id": "TKMhRsMdd3Fx"
      },
      "source": [
        "modelUnetv1= buildModel(Unetv1)"
      ],
      "execution_count": null,
      "outputs": []
    },
    {
      "cell_type": "code",
      "metadata": {
        "id": "15_yAE9Dd3Fy"
      },
      "source": [
        "# Callbacks func\n",
        "callbacks = [\n",
        "    EarlyStopping(patience=20, verbose=1),\n",
        "    ReduceLROnPlateau(mode='max',factor=0.3, patience=7, min_lr=0.00001, verbose=1),\n",
        "    ModelCheckpoint('model-tgs-salt.h5', verbose=1, save_best_only=True, save_weights_only=True)\n",
        "]"
      ],
      "execution_count": null,
      "outputs": []
    },
    {
      "cell_type": "code",
      "metadata": {
        "id": "taGm5JySd3Fy",
        "colab": {
          "base_uri": "https://localhost:8080/"
        },
        "outputId": "04be7ebc-58c2-429b-f8ea-6d10b8243e79"
      },
      "source": [
        "results = modelUnetv1.fit(X_train, y_train, batch_size= 32, epochs=100, callbacks=callbacks,\\\n",
        "                    validation_data=(X_val, y_val))"
      ],
      "execution_count": null,
      "outputs": [
        {
          "output_type": "stream",
          "text": [
            "Epoch 1/100\n",
            "357/357 [==============================] - 58s 66ms/step - loss: 0.4861 - dice_coefficient: 0.4389 - val_loss: 0.8548 - val_dice_coefficient: 0.5240\n",
            "\n",
            "Epoch 00001: val_loss improved from inf to 0.85476, saving model to model-tgs-salt.h5\n",
            "Epoch 2/100\n",
            "357/357 [==============================] - 22s 62ms/step - loss: 0.3133 - dice_coefficient: 0.6099 - val_loss: 0.2907 - val_dice_coefficient: 0.6334\n",
            "\n",
            "Epoch 00002: val_loss improved from 0.85476 to 0.29066, saving model to model-tgs-salt.h5\n",
            "Epoch 3/100\n",
            "357/357 [==============================] - 22s 63ms/step - loss: 0.2792 - dice_coefficient: 0.6641 - val_loss: 0.3937 - val_dice_coefficient: 0.5003\n",
            "\n",
            "Epoch 00003: val_loss did not improve from 0.29066\n",
            "Epoch 4/100\n",
            "357/357 [==============================] - 23s 63ms/step - loss: 0.2549 - dice_coefficient: 0.6901 - val_loss: 0.2581 - val_dice_coefficient: 0.7025\n",
            "\n",
            "Epoch 00004: val_loss improved from 0.29066 to 0.25807, saving model to model-tgs-salt.h5\n",
            "Epoch 5/100\n",
            "357/357 [==============================] - 23s 64ms/step - loss: 0.2384 - dice_coefficient: 0.7115 - val_loss: 0.2772 - val_dice_coefficient: 0.7152\n",
            "\n",
            "Epoch 00005: val_loss did not improve from 0.25807\n",
            "Epoch 6/100\n",
            "357/357 [==============================] - 23s 64ms/step - loss: 0.2287 - dice_coefficient: 0.7179 - val_loss: 0.4942 - val_dice_coefficient: 0.4840\n",
            "\n",
            "Epoch 00006: val_loss did not improve from 0.25807\n",
            "Epoch 7/100\n",
            "357/357 [==============================] - 23s 65ms/step - loss: 0.2163 - dice_coefficient: 0.7308 - val_loss: 0.2696 - val_dice_coefficient: 0.7428\n",
            "\n",
            "Epoch 00007: val_loss did not improve from 0.25807\n",
            "Epoch 8/100\n",
            "357/357 [==============================] - 23s 65ms/step - loss: 0.2085 - dice_coefficient: 0.7449 - val_loss: 0.2277 - val_dice_coefficient: 0.7497\n",
            "\n",
            "Epoch 00008: ReduceLROnPlateau reducing learning rate to 0.0014999999664723873.\n",
            "\n",
            "Epoch 00008: val_loss improved from 0.25807 to 0.22770, saving model to model-tgs-salt.h5\n",
            "Epoch 9/100\n",
            "357/357 [==============================] - 23s 65ms/step - loss: 0.1869 - dice_coefficient: 0.7618 - val_loss: 0.1862 - val_dice_coefficient: 0.7962\n",
            "\n",
            "Epoch 00009: val_loss improved from 0.22770 to 0.18616, saving model to model-tgs-salt.h5\n",
            "Epoch 10/100\n",
            "357/357 [==============================] - 23s 66ms/step - loss: 0.1766 - dice_coefficient: 0.7802 - val_loss: 0.1829 - val_dice_coefficient: 0.8041\n",
            "\n",
            "Epoch 00010: val_loss improved from 0.18616 to 0.18287, saving model to model-tgs-salt.h5\n",
            "Epoch 11/100\n",
            "357/357 [==============================] - 24s 66ms/step - loss: 0.1697 - dice_coefficient: 0.7903 - val_loss: 0.1653 - val_dice_coefficient: 0.8178\n",
            "\n",
            "Epoch 00011: val_loss improved from 0.18287 to 0.16531, saving model to model-tgs-salt.h5\n",
            "Epoch 12/100\n",
            "357/357 [==============================] - 23s 66ms/step - loss: 0.1719 - dice_coefficient: 0.7921 - val_loss: 0.2026 - val_dice_coefficient: 0.8019\n",
            "\n",
            "Epoch 00012: val_loss did not improve from 0.16531\n",
            "Epoch 13/100\n",
            "357/357 [==============================] - 23s 66ms/step - loss: 0.1663 - dice_coefficient: 0.7954 - val_loss: 0.1930 - val_dice_coefficient: 0.8068\n",
            "\n",
            "Epoch 00013: val_loss did not improve from 0.16531\n",
            "Epoch 14/100\n",
            "357/357 [==============================] - 23s 66ms/step - loss: 0.1668 - dice_coefficient: 0.7973 - val_loss: 0.1636 - val_dice_coefficient: 0.8106\n",
            "\n",
            "Epoch 00014: val_loss improved from 0.16531 to 0.16357, saving model to model-tgs-salt.h5\n",
            "Epoch 15/100\n",
            "357/357 [==============================] - 23s 66ms/step - loss: 0.1591 - dice_coefficient: 0.8058 - val_loss: 0.1524 - val_dice_coefficient: 0.8180\n",
            "\n",
            "Epoch 00015: ReduceLROnPlateau reducing learning rate to 0.00045000000391155477.\n",
            "\n",
            "Epoch 00015: val_loss improved from 0.16357 to 0.15242, saving model to model-tgs-salt.h5\n",
            "Epoch 16/100\n",
            "357/357 [==============================] - 23s 66ms/step - loss: 0.1516 - dice_coefficient: 0.8039 - val_loss: 0.1590 - val_dice_coefficient: 0.8315\n",
            "\n",
            "Epoch 00016: val_loss did not improve from 0.15242\n",
            "Epoch 17/100\n",
            "357/357 [==============================] - 24s 66ms/step - loss: 0.1471 - dice_coefficient: 0.8192 - val_loss: 0.1481 - val_dice_coefficient: 0.8358\n",
            "\n",
            "Epoch 00017: val_loss improved from 0.15242 to 0.14807, saving model to model-tgs-salt.h5\n",
            "Epoch 18/100\n",
            "357/357 [==============================] - 23s 66ms/step - loss: 0.1461 - dice_coefficient: 0.8191 - val_loss: 0.1474 - val_dice_coefficient: 0.8379\n",
            "\n",
            "Epoch 00018: val_loss improved from 0.14807 to 0.14737, saving model to model-tgs-salt.h5\n",
            "Epoch 19/100\n",
            "357/357 [==============================] - 23s 66ms/step - loss: 0.1438 - dice_coefficient: 0.8229 - val_loss: 0.1481 - val_dice_coefficient: 0.8364\n",
            "\n",
            "Epoch 00019: val_loss did not improve from 0.14737\n",
            "Epoch 20/100\n",
            "357/357 [==============================] - 23s 66ms/step - loss: 0.1440 - dice_coefficient: 0.8188 - val_loss: 0.1516 - val_dice_coefficient: 0.8389\n",
            "\n",
            "Epoch 00020: val_loss did not improve from 0.14737\n",
            "Epoch 21/100\n",
            "357/357 [==============================] - 23s 66ms/step - loss: 0.1423 - dice_coefficient: 0.8221 - val_loss: 0.1497 - val_dice_coefficient: 0.8355\n",
            "\n",
            "Epoch 00021: val_loss did not improve from 0.14737\n",
            "Epoch 22/100\n",
            "357/357 [==============================] - 23s 66ms/step - loss: 0.1414 - dice_coefficient: 0.8281 - val_loss: 0.1433 - val_dice_coefficient: 0.8406\n",
            "\n",
            "Epoch 00022: ReduceLROnPlateau reducing learning rate to 0.00013499999768100678.\n",
            "\n",
            "Epoch 00022: val_loss improved from 0.14737 to 0.14332, saving model to model-tgs-salt.h5\n",
            "Epoch 23/100\n",
            "357/357 [==============================] - 23s 66ms/step - loss: 0.1429 - dice_coefficient: 0.8225 - val_loss: 0.1396 - val_dice_coefficient: 0.8460\n",
            "\n",
            "Epoch 00023: val_loss improved from 0.14332 to 0.13962, saving model to model-tgs-salt.h5\n",
            "Epoch 24/100\n",
            "357/357 [==============================] - 23s 66ms/step - loss: 0.1365 - dice_coefficient: 0.8320 - val_loss: 0.1403 - val_dice_coefficient: 0.8449\n",
            "\n",
            "Epoch 00024: val_loss did not improve from 0.13962\n",
            "Epoch 25/100\n",
            "357/357 [==============================] - 23s 66ms/step - loss: 0.1370 - dice_coefficient: 0.8268 - val_loss: 0.1404 - val_dice_coefficient: 0.8424\n",
            "\n",
            "Epoch 00025: val_loss did not improve from 0.13962\n",
            "Epoch 26/100\n",
            "357/357 [==============================] - 23s 66ms/step - loss: 0.1404 - dice_coefficient: 0.8263 - val_loss: 0.1437 - val_dice_coefficient: 0.8434\n",
            "\n",
            "Epoch 00026: val_loss did not improve from 0.13962\n",
            "Epoch 27/100\n",
            "357/357 [==============================] - 23s 66ms/step - loss: 0.1378 - dice_coefficient: 0.8331 - val_loss: 0.1444 - val_dice_coefficient: 0.8475\n",
            "\n",
            "Epoch 00027: val_loss did not improve from 0.13962\n",
            "Epoch 28/100\n",
            "357/357 [==============================] - 23s 66ms/step - loss: 0.1354 - dice_coefficient: 0.8324 - val_loss: 0.1425 - val_dice_coefficient: 0.8433\n",
            "\n",
            "Epoch 00028: val_loss did not improve from 0.13962\n",
            "Epoch 29/100\n",
            "357/357 [==============================] - 23s 66ms/step - loss: 0.1431 - dice_coefficient: 0.8230 - val_loss: 0.1493 - val_dice_coefficient: 0.8372\n",
            "\n",
            "Epoch 00029: ReduceLROnPlateau reducing learning rate to 4.049999843118712e-05.\n",
            "\n",
            "Epoch 00029: val_loss did not improve from 0.13962\n",
            "Epoch 30/100\n",
            "357/357 [==============================] - 24s 66ms/step - loss: 0.1363 - dice_coefficient: 0.8336 - val_loss: 0.1408 - val_dice_coefficient: 0.8449\n",
            "\n",
            "Epoch 00030: val_loss did not improve from 0.13962\n",
            "Epoch 31/100\n",
            "357/357 [==============================] - 23s 66ms/step - loss: 0.1352 - dice_coefficient: 0.8298 - val_loss: 0.1419 - val_dice_coefficient: 0.8444\n",
            "\n",
            "Epoch 00031: val_loss did not improve from 0.13962\n",
            "Epoch 32/100\n",
            "357/357 [==============================] - 23s 66ms/step - loss: 0.1337 - dice_coefficient: 0.8348 - val_loss: 0.1419 - val_dice_coefficient: 0.8453\n",
            "\n",
            "Epoch 00032: val_loss did not improve from 0.13962\n",
            "Epoch 33/100\n",
            "357/357 [==============================] - 24s 66ms/step - loss: 0.1364 - dice_coefficient: 0.8337 - val_loss: 0.1411 - val_dice_coefficient: 0.8451\n",
            "\n",
            "Epoch 00033: val_loss did not improve from 0.13962\n",
            "Epoch 34/100\n",
            "357/357 [==============================] - 23s 66ms/step - loss: 0.1355 - dice_coefficient: 0.8308 - val_loss: 0.1397 - val_dice_coefficient: 0.8453\n",
            "\n",
            "Epoch 00034: val_loss did not improve from 0.13962\n",
            "Epoch 35/100\n",
            "357/357 [==============================] - 23s 66ms/step - loss: 0.1375 - dice_coefficient: 0.8335 - val_loss: 0.1401 - val_dice_coefficient: 0.8460\n",
            "\n",
            "Epoch 00035: val_loss did not improve from 0.13962\n",
            "Epoch 36/100\n",
            "357/357 [==============================] - 24s 66ms/step - loss: 0.1346 - dice_coefficient: 0.8344 - val_loss: 0.1394 - val_dice_coefficient: 0.8463\n",
            "\n",
            "Epoch 00036: ReduceLROnPlateau reducing learning rate to 1.2149999747634865e-05.\n",
            "\n",
            "Epoch 00036: val_loss improved from 0.13962 to 0.13945, saving model to model-tgs-salt.h5\n",
            "Epoch 37/100\n",
            "357/357 [==============================] - 24s 66ms/step - loss: 0.1372 - dice_coefficient: 0.8320 - val_loss: 0.1406 - val_dice_coefficient: 0.8460\n",
            "\n",
            "Epoch 00037: val_loss did not improve from 0.13945\n",
            "Epoch 38/100\n",
            "357/357 [==============================] - 23s 66ms/step - loss: 0.1348 - dice_coefficient: 0.8346 - val_loss: 0.1405 - val_dice_coefficient: 0.8459\n",
            "\n",
            "Epoch 00038: val_loss did not improve from 0.13945\n",
            "Epoch 39/100\n",
            "357/357 [==============================] - 23s 66ms/step - loss: 0.1396 - dice_coefficient: 0.8283 - val_loss: 0.1396 - val_dice_coefficient: 0.8465\n",
            "\n",
            "Epoch 00039: val_loss did not improve from 0.13945\n",
            "Epoch 40/100\n",
            "357/357 [==============================] - 23s 66ms/step - loss: 0.1357 - dice_coefficient: 0.8288 - val_loss: 0.1393 - val_dice_coefficient: 0.8459\n",
            "\n",
            "Epoch 00040: val_loss improved from 0.13945 to 0.13929, saving model to model-tgs-salt.h5\n",
            "Epoch 41/100\n",
            "357/357 [==============================] - 23s 66ms/step - loss: 0.1298 - dice_coefficient: 0.8393 - val_loss: 0.1399 - val_dice_coefficient: 0.8460\n",
            "\n",
            "Epoch 00041: val_loss did not improve from 0.13929\n",
            "Epoch 42/100\n",
            "357/357 [==============================] - 23s 66ms/step - loss: 0.1338 - dice_coefficient: 0.8328 - val_loss: 0.1399 - val_dice_coefficient: 0.8458\n",
            "\n",
            "Epoch 00042: val_loss did not improve from 0.13929\n",
            "Epoch 43/100\n",
            "357/357 [==============================] - 23s 66ms/step - loss: 0.1337 - dice_coefficient: 0.8325 - val_loss: 0.1387 - val_dice_coefficient: 0.8460\n",
            "\n",
            "Epoch 00043: ReduceLROnPlateau reducing learning rate to 1e-05.\n",
            "\n",
            "Epoch 00043: val_loss improved from 0.13929 to 0.13875, saving model to model-tgs-salt.h5\n",
            "Epoch 44/100\n",
            "357/357 [==============================] - 23s 66ms/step - loss: 0.1357 - dice_coefficient: 0.8319 - val_loss: 0.1394 - val_dice_coefficient: 0.8461\n",
            "\n",
            "Epoch 00044: val_loss did not improve from 0.13875\n",
            "Epoch 45/100\n",
            "357/357 [==============================] - 24s 66ms/step - loss: 0.1347 - dice_coefficient: 0.8321 - val_loss: 0.1395 - val_dice_coefficient: 0.8466\n",
            "\n",
            "Epoch 00045: val_loss did not improve from 0.13875\n",
            "Epoch 46/100\n",
            "357/357 [==============================] - 23s 66ms/step - loss: 0.1317 - dice_coefficient: 0.8327 - val_loss: 0.1399 - val_dice_coefficient: 0.8462\n",
            "\n",
            "Epoch 00046: val_loss did not improve from 0.13875\n",
            "Epoch 47/100\n",
            "357/357 [==============================] - 24s 66ms/step - loss: 0.1353 - dice_coefficient: 0.8329 - val_loss: 0.1392 - val_dice_coefficient: 0.8466\n",
            "\n",
            "Epoch 00047: val_loss did not improve from 0.13875\n",
            "Epoch 48/100\n",
            "357/357 [==============================] - 24s 66ms/step - loss: 0.1377 - dice_coefficient: 0.8305 - val_loss: 0.1395 - val_dice_coefficient: 0.8459\n",
            "\n",
            "Epoch 00048: val_loss did not improve from 0.13875\n",
            "Epoch 49/100\n",
            "357/357 [==============================] - 24s 66ms/step - loss: 0.1319 - dice_coefficient: 0.8371 - val_loss: 0.1398 - val_dice_coefficient: 0.8458\n",
            "\n",
            "Epoch 00049: val_loss did not improve from 0.13875\n",
            "Epoch 50/100\n",
            "357/357 [==============================] - 24s 66ms/step - loss: 0.1350 - dice_coefficient: 0.8351 - val_loss: 0.1394 - val_dice_coefficient: 0.8463\n",
            "\n",
            "Epoch 00050: val_loss did not improve from 0.13875\n",
            "Epoch 51/100\n",
            "357/357 [==============================] - 24s 66ms/step - loss: 0.1308 - dice_coefficient: 0.8363 - val_loss: 0.1396 - val_dice_coefficient: 0.8458\n",
            "\n",
            "Epoch 00051: val_loss did not improve from 0.13875\n",
            "Epoch 52/100\n",
            "357/357 [==============================] - 24s 66ms/step - loss: 0.1349 - dice_coefficient: 0.8324 - val_loss: 0.1396 - val_dice_coefficient: 0.8460\n",
            "\n",
            "Epoch 00052: val_loss did not improve from 0.13875\n",
            "Epoch 53/100\n",
            "357/357 [==============================] - 24s 66ms/step - loss: 0.1340 - dice_coefficient: 0.8320 - val_loss: 0.1392 - val_dice_coefficient: 0.8467\n",
            "\n",
            "Epoch 00053: val_loss did not improve from 0.13875\n",
            "Epoch 54/100\n",
            "357/357 [==============================] - 24s 66ms/step - loss: 0.1345 - dice_coefficient: 0.8349 - val_loss: 0.1392 - val_dice_coefficient: 0.8461\n",
            "\n",
            "Epoch 00054: val_loss did not improve from 0.13875\n",
            "Epoch 55/100\n",
            "357/357 [==============================] - 23s 66ms/step - loss: 0.1347 - dice_coefficient: 0.8356 - val_loss: 0.1387 - val_dice_coefficient: 0.8467\n",
            "\n",
            "Epoch 00055: val_loss improved from 0.13875 to 0.13870, saving model to model-tgs-salt.h5\n",
            "Epoch 56/100\n",
            "357/357 [==============================] - 24s 66ms/step - loss: 0.1337 - dice_coefficient: 0.8298 - val_loss: 0.1392 - val_dice_coefficient: 0.8459\n",
            "\n",
            "Epoch 00056: val_loss did not improve from 0.13870\n",
            "Epoch 57/100\n",
            "357/357 [==============================] - 23s 66ms/step - loss: 0.1374 - dice_coefficient: 0.8330 - val_loss: 0.1402 - val_dice_coefficient: 0.8453\n",
            "\n",
            "Epoch 00057: val_loss did not improve from 0.13870\n",
            "Epoch 58/100\n",
            "357/357 [==============================] - 23s 66ms/step - loss: 0.1350 - dice_coefficient: 0.8320 - val_loss: 0.1399 - val_dice_coefficient: 0.8458\n",
            "\n",
            "Epoch 00058: val_loss did not improve from 0.13870\n",
            "Epoch 59/100\n",
            "357/357 [==============================] - 23s 66ms/step - loss: 0.1364 - dice_coefficient: 0.8296 - val_loss: 0.1388 - val_dice_coefficient: 0.8468\n",
            "\n",
            "Epoch 00059: val_loss did not improve from 0.13870\n",
            "Epoch 60/100\n",
            "357/357 [==============================] - 24s 66ms/step - loss: 0.1314 - dice_coefficient: 0.8329 - val_loss: 0.1388 - val_dice_coefficient: 0.8472\n",
            "\n",
            "Epoch 00060: val_loss did not improve from 0.13870\n",
            "Epoch 61/100\n",
            "357/357 [==============================] - 24s 66ms/step - loss: 0.1349 - dice_coefficient: 0.8287 - val_loss: 0.1399 - val_dice_coefficient: 0.8457\n",
            "\n",
            "Epoch 00061: val_loss did not improve from 0.13870\n",
            "Epoch 62/100\n",
            "357/357 [==============================] - 24s 66ms/step - loss: 0.1343 - dice_coefficient: 0.8374 - val_loss: 0.1390 - val_dice_coefficient: 0.8472\n",
            "\n",
            "Epoch 00062: val_loss did not improve from 0.13870\n",
            "Epoch 63/100\n",
            "357/357 [==============================] - 24s 66ms/step - loss: 0.1298 - dice_coefficient: 0.8359 - val_loss: 0.1382 - val_dice_coefficient: 0.8473\n",
            "\n",
            "Epoch 00063: val_loss improved from 0.13870 to 0.13818, saving model to model-tgs-salt.h5\n",
            "Epoch 64/100\n",
            "357/357 [==============================] - 23s 66ms/step - loss: 0.1358 - dice_coefficient: 0.8331 - val_loss: 0.1392 - val_dice_coefficient: 0.8466\n",
            "\n",
            "Epoch 00064: val_loss did not improve from 0.13818\n",
            "Epoch 65/100\n",
            "357/357 [==============================] - 24s 66ms/step - loss: 0.1293 - dice_coefficient: 0.8390 - val_loss: 0.1386 - val_dice_coefficient: 0.8470\n",
            "\n",
            "Epoch 00065: val_loss did not improve from 0.13818\n",
            "Epoch 66/100\n",
            "357/357 [==============================] - 24s 66ms/step - loss: 0.1314 - dice_coefficient: 0.8360 - val_loss: 0.1397 - val_dice_coefficient: 0.8460\n",
            "\n",
            "Epoch 00066: val_loss did not improve from 0.13818\n",
            "Epoch 67/100\n",
            "357/357 [==============================] - 24s 66ms/step - loss: 0.1332 - dice_coefficient: 0.8362 - val_loss: 0.1395 - val_dice_coefficient: 0.8461\n",
            "\n",
            "Epoch 00067: val_loss did not improve from 0.13818\n",
            "Epoch 68/100\n",
            "357/357 [==============================] - 24s 66ms/step - loss: 0.1303 - dice_coefficient: 0.8357 - val_loss: 0.1386 - val_dice_coefficient: 0.8475\n",
            "\n",
            "Epoch 00068: val_loss did not improve from 0.13818\n",
            "Epoch 69/100\n",
            "357/357 [==============================] - 24s 66ms/step - loss: 0.1341 - dice_coefficient: 0.8377 - val_loss: 0.1393 - val_dice_coefficient: 0.8464\n",
            "\n",
            "Epoch 00069: val_loss did not improve from 0.13818\n",
            "Epoch 70/100\n",
            "357/357 [==============================] - 23s 66ms/step - loss: 0.1370 - dice_coefficient: 0.8345 - val_loss: 0.1395 - val_dice_coefficient: 0.8463\n",
            "\n",
            "Epoch 00070: val_loss did not improve from 0.13818\n",
            "Epoch 71/100\n",
            "357/357 [==============================] - 24s 66ms/step - loss: 0.1358 - dice_coefficient: 0.8324 - val_loss: 0.1395 - val_dice_coefficient: 0.8462\n",
            "\n",
            "Epoch 00071: val_loss did not improve from 0.13818\n",
            "Epoch 72/100\n",
            "357/357 [==============================] - 24s 66ms/step - loss: 0.1295 - dice_coefficient: 0.8368 - val_loss: 0.1390 - val_dice_coefficient: 0.8465\n",
            "\n",
            "Epoch 00072: val_loss did not improve from 0.13818\n",
            "Epoch 73/100\n",
            "357/357 [==============================] - 24s 66ms/step - loss: 0.1345 - dice_coefficient: 0.8355 - val_loss: 0.1400 - val_dice_coefficient: 0.8456\n",
            "\n",
            "Epoch 00073: val_loss did not improve from 0.13818\n",
            "Epoch 74/100\n",
            "357/357 [==============================] - 24s 66ms/step - loss: 0.1329 - dice_coefficient: 0.8368 - val_loss: 0.1395 - val_dice_coefficient: 0.8467\n",
            "\n",
            "Epoch 00074: val_loss did not improve from 0.13818\n",
            "Epoch 75/100\n",
            "357/357 [==============================] - 23s 66ms/step - loss: 0.1311 - dice_coefficient: 0.8364 - val_loss: 0.1398 - val_dice_coefficient: 0.8458\n",
            "\n",
            "Epoch 00075: val_loss did not improve from 0.13818\n",
            "Epoch 76/100\n",
            "357/357 [==============================] - 24s 66ms/step - loss: 0.1317 - dice_coefficient: 0.8354 - val_loss: 0.1397 - val_dice_coefficient: 0.8460\n",
            "\n",
            "Epoch 00076: val_loss did not improve from 0.13818\n",
            "Epoch 77/100\n",
            "357/357 [==============================] - 24s 66ms/step - loss: 0.1349 - dice_coefficient: 0.8303 - val_loss: 0.1392 - val_dice_coefficient: 0.8463\n",
            "\n",
            "Epoch 00077: val_loss did not improve from 0.13818\n",
            "Epoch 78/100\n",
            "357/357 [==============================] - 24s 66ms/step - loss: 0.1308 - dice_coefficient: 0.8349 - val_loss: 0.1398 - val_dice_coefficient: 0.8459\n",
            "\n",
            "Epoch 00078: val_loss did not improve from 0.13818\n",
            "Epoch 79/100\n",
            "357/357 [==============================] - 24s 66ms/step - loss: 0.1351 - dice_coefficient: 0.8351 - val_loss: 0.1395 - val_dice_coefficient: 0.8458\n",
            "\n",
            "Epoch 00079: val_loss did not improve from 0.13818\n",
            "Epoch 80/100\n",
            "357/357 [==============================] - 24s 66ms/step - loss: 0.1290 - dice_coefficient: 0.8380 - val_loss: 0.1393 - val_dice_coefficient: 0.8471\n",
            "\n",
            "Epoch 00080: val_loss did not improve from 0.13818\n",
            "Epoch 81/100\n",
            "357/357 [==============================] - 24s 66ms/step - loss: 0.1298 - dice_coefficient: 0.8380 - val_loss: 0.1398 - val_dice_coefficient: 0.8466\n",
            "\n",
            "Epoch 00081: val_loss did not improve from 0.13818\n",
            "Epoch 82/100\n",
            "357/357 [==============================] - 24s 66ms/step - loss: 0.1428 - dice_coefficient: 0.8289 - val_loss: 0.1394 - val_dice_coefficient: 0.8466\n",
            "\n",
            "Epoch 00082: val_loss did not improve from 0.13818\n",
            "Epoch 83/100\n",
            "357/357 [==============================] - 24s 66ms/step - loss: 0.1318 - dice_coefficient: 0.8403 - val_loss: 0.1391 - val_dice_coefficient: 0.8467\n",
            "\n",
            "Epoch 00083: val_loss did not improve from 0.13818\n",
            "Epoch 00083: early stopping\n"
          ],
          "name": "stdout"
        }
      ]
    },
    {
      "cell_type": "code",
      "metadata": {
        "id": "vpFwh8g2d3Fy",
        "colab": {
          "base_uri": "https://localhost:8080/",
          "height": 364,
          "referenced_widgets": [
            "4edc8b005359463c85c813077ecc40a6",
            "0b79639a00e946afb9bbce718fad6cf7",
            "05aece36d86e4c26b83e24c70a9a9d72",
            "20fe1a9e97f249d4b0a7f84f35ce6700",
            "041c0ddbcd1045258268d6a84f97b438",
            "1309ee75062342edadced42eb8c1977c",
            "4ce6b52937bd42369b6e791d90f3987b",
            "3c82a99a25cd4a8c9367c002f3e5a4c8"
          ]
        },
        "outputId": "d42cb6ba-faac-42ab-f467-145b399db20d"
      },
      "source": [
        "threshold_best = evaluaWithVal(modelUnetv1, X_val, y_val)"
      ],
      "execution_count": null,
      "outputs": [
        {
          "output_type": "stream",
          "text": [
            "19/19 [==============================] - 1s 18ms/step\n"
          ],
          "name": "stdout"
        },
        {
          "output_type": "display_data",
          "data": {
            "application/vnd.jupyter.widget-view+json": {
              "model_id": "4edc8b005359463c85c813077ecc40a6",
              "version_minor": 0,
              "version_major": 2
            },
            "text/plain": [
              "HBox(children=(FloatProgress(value=0.0, max=50.0), HTML(value='')))"
            ]
          },
          "metadata": {
            "tags": []
          }
        },
        {
          "output_type": "stream",
          "text": [
            "\n"
          ],
          "name": "stdout"
        },
        {
          "output_type": "display_data",
          "data": {
            "image/png": "[encoded data removed]",
            "text/plain": [
              "<Figure size 432x288 with 1 Axes>"
            ]
          },
          "metadata": {
            "tags": [],
            "needs_background": "light"
          }
        }
      ]
    },
    {
      "cell_type": "markdown",
      "metadata": {
        "id": "7c8VWYXEd3Fz"
      },
      "source": [
        "## Unet v2: Add residual block"
      ]
    },
    {
      "cell_type": "code",
      "metadata": {
        "id": "0D4TtHCKd3Fz"
      },
      "source": [
        "def conv_block_v2(tensor, n_filter, kernel_size = 3, batchnorm= True):\n",
        "    # Conv layer 1\n",
        "    conv = Conv2D(n_filter, kernel_size= (kernel_size, kernel_size), padding= 'same')(tensor)\n",
        "    conv = BatchNormalization()(conv)\n",
        "    conv = Activation('relu')(conv)\n",
        "    # Conv layer 2\n",
        "    conv = Conv2D(n_filter, kernel_size= (kernel_size, kernel_size), padding= 'same')(tensor)\n",
        "    # conv = Conv2D(n_filter, kernel_size= (kernel_size, kernel_size), padding= 'same')(conv)\n",
        "    if batchnorm:\n",
        "        conv = BatchNormalization()(conv)\n",
        "    conv = Activation('relu')(conv)\n",
        "\n",
        "    return conv"
      ],
      "execution_count": null,
      "outputs": []
    },
    {
      "cell_type": "code",
      "metadata": {
        "id": "x2XMMs2Zd3F0"
      },
      "source": [
        "def residual_block(tensor, n_filter, kernel_size = 3, connect=True, pool=True, batchnorm= True, drop= 0.2):\n",
        "    # Conv Block\n",
        "    res = conv_block_v2(tensor, n_filter= n_filter, kernel_size= kernel_size, batchnorm= True)\n",
        "    res = conv_block_v2(res, n_filter= n_filter, kernel_size= kernel_size, batchnorm= False)\n",
        "    # skip_connected\n",
        "    if connect:\n",
        "        res = layers.Add()([res, tensor])\n",
        "    if batchnorm:\n",
        "        res = BatchNormalization()(res)\n",
        "    res = Activation('relu')(res)\n",
        "    if pool:\n",
        "        res = MaxPooling2D((2, 2))(res)\n",
        "        res = Dropout(drop)(res)\n",
        "\n",
        "    return res"
      ],
      "execution_count": null,
      "outputs": []
    },
    {
      "cell_type": "code",
      "metadata": {
        "id": "69RM5HhHd3F0"
      },
      "source": [
        "def decode_block_v2(input_layer, concat_layer, n_filter, kernel_size = 3, batchnorm= True, drop= 0.15):\n",
        "    convtrans = Conv2DTranspose(filters= n_filter, kernel_size= (kernel_size, kernel_size),\n",
        "                        strides= (2, 2), padding= 'same')(input_layer)\n",
        "    convtrans = concatenate([convtrans, concat_layer])\n",
        "    convtrans = Dropout(drop)(convtrans)\n",
        "    dec = conv_block_v2(convtrans, n_filter= n_filter, kernel_size= kernel_size, batchnorm= batchnorm)\n",
        "    return dec"
      ],
      "execution_count": null,
      "outputs": []
    },
    {
      "cell_type": "code",
      "metadata": {
        "id": "Rztr9Xn7d3F0"
      },
      "source": [
        "def Unetv2(input_image):\n",
        "    # Left U\n",
        "    conv1 = conv_block_v2(input_image, 16, kernel_size= 3)\n",
        "    res1 = residual_block(conv1, 16, kernel_size = 3, connect= False, pool= False, batchnorm= False)\n",
        "    res1 = residual_block(res1, 16, kernel_size = 3, pool= True) # 64*64*16\n",
        "\n",
        "    conv2 = conv_block_v2(res1, 32, kernel_size= 3)\n",
        "    res2 = residual_block(conv2, 32, kernel_size = 3, connect= False, pool= False, batchnorm= False)\n",
        "    res2 = residual_block(res2, 32, kernel_size = 3, pool= True) # 32*32*32\n",
        "\n",
        "    conv3 = conv_block_v2(res2, 64, kernel_size= 3)\n",
        "    res3 = residual_block(conv3, 64, kernel_size = 3, connect= False, pool= False, batchnorm= False)\n",
        "    res3 = residual_block(res3, 64, kernel_size = 3, pool= True) # 16*16*64\n",
        "\n",
        "    conv4 = conv_block_v2(res3, 128, kernel_size= 3)\n",
        "    res4 = residual_block(conv4, 128, kernel_size = 3, connect= False, pool= False, batchnorm= False)\n",
        "    res4 = residual_block(res4, 128, kernel_size = 3, pool= True) # 8*8*128\n",
        "\n",
        "    conv5 = conv_block_v2(res4, 256, kernel_size= 3, batchnorm= True) # 8*8*256\n",
        "    conv5 = layers.MaxPooling2D((2, 2))(conv5)\n",
        "    conv5 = layers.Dropout(0.2)(conv5)\n",
        "    \n",
        "\n",
        "    # # Right U\n",
        "    dec1 = decode_block_v2(conv5, res4, n_filter= 128, kernel_size= 3, batchnorm= True, drop= 0.1)\n",
        "    dec2 = decode_block_v2(dec1, res3, n_filter= 64, kernel_size= 3, batchnorm= True, drop= 0.1)\n",
        "    dec3 = decode_block_v2(dec2, res2, n_filter= 32, kernel_size= 3, batchnorm= True, drop= 0.1)\n",
        "    dec4 = decode_block_v2(dec3, res1, n_filter= 16, kernel_size= 3, batchnorm= True, drop= 0.1)\n",
        "    dec5 = decode_block_v2(dec4, conv1, n_filter= 8, kernel_size= 3, batchnorm= True, drop= 0.1)\n",
        "    # # Output\n",
        "    outputs = Conv2D(1, (1, 1), activation='sigmoid')(dec5)\n",
        "    model = Model(inputs=[input_image], outputs=[outputs])\n",
        "\n",
        "    return model"
      ],
      "execution_count": null,
      "outputs": []
    },
    {
      "cell_type": "code",
      "metadata": {
        "id": "8BVD-KHud3F1"
      },
      "source": [
        "modelUnetv2 = buildModel(Unetv2)"
      ],
      "execution_count": null,
      "outputs": []
    },
    {
      "cell_type": "code",
      "metadata": {
        "id": "xclbc56zd3F1"
      },
      "source": [
        "# Callbacks func\n",
        "callbacks = [\n",
        "    EarlyStopping(patience=10, verbose=1),\n",
        "    ReduceLROnPlateau(mode='max',factor=0.3, patience=7, min_lr=0.00001, verbose=1),\n",
        "    ModelCheckpoint('model-tgs-salt.h5', verbose=1, save_best_only=True, save_weights_only=True)\n",
        "]"
      ],
      "execution_count": null,
      "outputs": []
    },
    {
      "cell_type": "code",
      "metadata": {
        "id": "LvNQRzxpd3F2",
        "colab": {
          "base_uri": "https://localhost:8080/"
        },
        "outputId": "63a7836b-8a05-4dbb-8a3f-301a7d2efe0c"
      },
      "source": [
        "results_2 = modelUnetv2.fit(X_train, y_train, batch_size= 32, epochs=100, callbacks=callbacks,\\\n",
        "                    validation_data=(X_val, y_val))"
      ],
      "execution_count": null,
      "outputs": [
        {
          "output_type": "stream",
          "text": [
            "Epoch 1/100\n",
            "357/357 [==============================] - 41s 107ms/step - loss: 0.5217 - dice_coefficient: 0.4318 - val_loss: 17.9145 - val_dice_coefficient: 0.4171\n",
            "\n",
            "Epoch 00001: val_loss improved from inf to 17.91448, saving model to model-tgs-salt.h5\n",
            "Epoch 2/100\n",
            "357/357 [==============================] - 38s 108ms/step - loss: 0.3180 - dice_coefficient: 0.6036 - val_loss: 0.5746 - val_dice_coefficient: 0.5655\n",
            "\n",
            "Epoch 00002: val_loss improved from 17.91448 to 0.57465, saving model to model-tgs-salt.h5\n",
            "Epoch 3/100\n",
            "357/357 [==============================] - 39s 109ms/step - loss: 0.2991 - dice_coefficient: 0.6199 - val_loss: 0.3626 - val_dice_coefficient: 0.6579\n",
            "\n",
            "Epoch 00003: val_loss improved from 0.57465 to 0.36255, saving model to model-tgs-salt.h5\n",
            "Epoch 4/100\n",
            "357/357 [==============================] - 39s 111ms/step - loss: 0.2705 - dice_coefficient: 0.6594 - val_loss: 0.6016 - val_dice_coefficient: 0.6884\n",
            "\n",
            "Epoch 00004: val_loss did not improve from 0.36255\n",
            "Epoch 5/100\n",
            "357/357 [==============================] - 40s 111ms/step - loss: 0.2578 - dice_coefficient: 0.6817 - val_loss: 0.3454 - val_dice_coefficient: 0.6512\n",
            "\n",
            "Epoch 00005: val_loss improved from 0.36255 to 0.34537, saving model to model-tgs-salt.h5\n",
            "Epoch 6/100\n",
            "357/357 [==============================] - 40s 111ms/step - loss: 0.2303 - dice_coefficient: 0.7199 - val_loss: 0.4874 - val_dice_coefficient: 0.7233\n",
            "\n",
            "Epoch 00006: val_loss did not improve from 0.34537\n",
            "Epoch 7/100\n",
            "357/357 [==============================] - 40s 111ms/step - loss: 0.2203 - dice_coefficient: 0.7302 - val_loss: 0.3380 - val_dice_coefficient: 0.7242\n",
            "\n",
            "Epoch 00007: val_loss improved from 0.34537 to 0.33800, saving model to model-tgs-salt.h5\n",
            "Epoch 8/100\n",
            "357/357 [==============================] - 40s 111ms/step - loss: 0.2110 - dice_coefficient: 0.7400 - val_loss: 0.2744 - val_dice_coefficient: 0.7152\n",
            "\n",
            "Epoch 00008: ReduceLROnPlateau reducing learning rate to 0.0014999999664723873.\n",
            "\n",
            "Epoch 00008: val_loss improved from 0.33800 to 0.27443, saving model to model-tgs-salt.h5\n",
            "Epoch 9/100\n",
            "357/357 [==============================] - 40s 111ms/step - loss: 0.1903 - dice_coefficient: 0.7646 - val_loss: 0.1634 - val_dice_coefficient: 0.8013\n",
            "\n",
            "Epoch 00009: val_loss improved from 0.27443 to 0.16343, saving model to model-tgs-salt.h5\n",
            "Epoch 10/100\n",
            "357/357 [==============================] - 40s 111ms/step - loss: 0.1767 - dice_coefficient: 0.7823 - val_loss: 0.1630 - val_dice_coefficient: 0.8027\n",
            "\n",
            "Epoch 00010: val_loss improved from 0.16343 to 0.16305, saving model to model-tgs-salt.h5\n",
            "Epoch 11/100\n",
            "357/357 [==============================] - 40s 111ms/step - loss: 0.1739 - dice_coefficient: 0.7838 - val_loss: 0.1651 - val_dice_coefficient: 0.8013\n",
            "\n",
            "Epoch 00011: val_loss did not improve from 0.16305\n",
            "Epoch 12/100\n",
            "357/357 [==============================] - 40s 111ms/step - loss: 0.1752 - dice_coefficient: 0.7820 - val_loss: 0.2547 - val_dice_coefficient: 0.6962\n",
            "\n",
            "Epoch 00012: val_loss did not improve from 0.16305\n",
            "Epoch 13/100\n",
            "357/357 [==============================] - 40s 111ms/step - loss: 0.1653 - dice_coefficient: 0.7946 - val_loss: 0.1578 - val_dice_coefficient: 0.8095\n",
            "\n",
            "Epoch 00013: val_loss improved from 0.16305 to 0.15781, saving model to model-tgs-salt.h5\n",
            "Epoch 14/100\n",
            "357/357 [==============================] - 40s 111ms/step - loss: 0.1677 - dice_coefficient: 0.7937 - val_loss: 0.1538 - val_dice_coefficient: 0.8293\n",
            "\n",
            "Epoch 00014: val_loss improved from 0.15781 to 0.15378, saving model to model-tgs-salt.h5\n",
            "Epoch 15/100\n",
            "357/357 [==============================] - 39s 110ms/step - loss: 0.1629 - dice_coefficient: 0.7974 - val_loss: 0.1756 - val_dice_coefficient: 0.7812\n",
            "\n",
            "Epoch 00015: ReduceLROnPlateau reducing learning rate to 0.00045000000391155477.\n",
            "\n",
            "Epoch 00015: val_loss did not improve from 0.15378\n",
            "Epoch 16/100\n",
            "357/357 [==============================] - 40s 111ms/step - loss: 0.1610 - dice_coefficient: 0.8007 - val_loss: 0.1437 - val_dice_coefficient: 0.8254\n",
            "\n",
            "Epoch 00016: val_loss improved from 0.15378 to 0.14370, saving model to model-tgs-salt.h5\n",
            "Epoch 17/100\n",
            "357/357 [==============================] - 40s 111ms/step - loss: 0.1542 - dice_coefficient: 0.8083 - val_loss: 0.1461 - val_dice_coefficient: 0.8107\n",
            "\n",
            "Epoch 00017: val_loss did not improve from 0.14370\n",
            "Epoch 18/100\n",
            "357/357 [==============================] - 40s 111ms/step - loss: 0.1522 - dice_coefficient: 0.8093 - val_loss: 0.1451 - val_dice_coefficient: 0.8248\n",
            "\n",
            "Epoch 00018: val_loss did not improve from 0.14370\n",
            "Epoch 19/100\n",
            "357/357 [==============================] - 40s 111ms/step - loss: 0.1485 - dice_coefficient: 0.8157 - val_loss: 0.1452 - val_dice_coefficient: 0.8116\n",
            "\n",
            "Epoch 00019: val_loss did not improve from 0.14370\n",
            "Epoch 20/100\n",
            "357/357 [==============================] - 40s 111ms/step - loss: 0.1495 - dice_coefficient: 0.8114 - val_loss: 0.1478 - val_dice_coefficient: 0.8112\n",
            "\n",
            "Epoch 00020: val_loss did not improve from 0.14370\n",
            "Epoch 21/100\n",
            "357/357 [==============================] - 39s 111ms/step - loss: 0.1468 - dice_coefficient: 0.8183 - val_loss: 0.1404 - val_dice_coefficient: 0.8306\n",
            "\n",
            "Epoch 00021: val_loss improved from 0.14370 to 0.14041, saving model to model-tgs-salt.h5\n",
            "Epoch 22/100\n",
            "357/357 [==============================] - 40s 111ms/step - loss: 0.1504 - dice_coefficient: 0.8157 - val_loss: 0.1364 - val_dice_coefficient: 0.8404\n",
            "\n",
            "Epoch 00022: ReduceLROnPlateau reducing learning rate to 0.00013499999768100678.\n",
            "\n",
            "Epoch 00022: val_loss improved from 0.14041 to 0.13640, saving model to model-tgs-salt.h5\n",
            "Epoch 23/100\n",
            "357/357 [==============================] - 40s 111ms/step - loss: 0.1461 - dice_coefficient: 0.8217 - val_loss: 0.1347 - val_dice_coefficient: 0.8364\n",
            "\n",
            "Epoch 00023: val_loss improved from 0.13640 to 0.13471, saving model to model-tgs-salt.h5\n",
            "Epoch 24/100\n",
            "357/357 [==============================] - 39s 111ms/step - loss: 0.1423 - dice_coefficient: 0.8214 - val_loss: 0.1368 - val_dice_coefficient: 0.8335\n",
            "\n",
            "Epoch 00024: val_loss did not improve from 0.13471\n",
            "Epoch 25/100\n",
            "357/357 [==============================] - 40s 111ms/step - loss: 0.1441 - dice_coefficient: 0.8195 - val_loss: 0.1353 - val_dice_coefficient: 0.8371\n",
            "\n",
            "Epoch 00025: val_loss did not improve from 0.13471\n",
            "Epoch 26/100\n",
            "357/357 [==============================] - 40s 111ms/step - loss: 0.1461 - dice_coefficient: 0.8220 - val_loss: 0.1341 - val_dice_coefficient: 0.8366\n",
            "\n",
            "Epoch 00026: val_loss improved from 0.13471 to 0.13412, saving model to model-tgs-salt.h5\n",
            "Epoch 27/100\n",
            "357/357 [==============================] - 40s 111ms/step - loss: 0.1459 - dice_coefficient: 0.8194 - val_loss: 0.1327 - val_dice_coefficient: 0.8396\n",
            "\n",
            "Epoch 00027: val_loss improved from 0.13412 to 0.13273, saving model to model-tgs-salt.h5\n",
            "Epoch 28/100\n",
            "357/357 [==============================] - 40s 111ms/step - loss: 0.1385 - dice_coefficient: 0.8282 - val_loss: 0.1344 - val_dice_coefficient: 0.8394\n",
            "\n",
            "Epoch 00028: val_loss did not improve from 0.13273\n",
            "Epoch 29/100\n",
            "357/357 [==============================] - 40s 111ms/step - loss: 0.1415 - dice_coefficient: 0.8232 - val_loss: 0.1325 - val_dice_coefficient: 0.8404\n",
            "\n",
            "Epoch 00029: ReduceLROnPlateau reducing learning rate to 4.049999843118712e-05.\n",
            "\n",
            "Epoch 00029: val_loss improved from 0.13273 to 0.13250, saving model to model-tgs-salt.h5\n",
            "Epoch 30/100\n",
            "357/357 [==============================] - 40s 111ms/step - loss: 0.1394 - dice_coefficient: 0.8230 - val_loss: 0.1323 - val_dice_coefficient: 0.8402\n",
            "\n",
            "Epoch 00030: val_loss improved from 0.13250 to 0.13231, saving model to model-tgs-salt.h5\n",
            "Epoch 31/100\n",
            "357/357 [==============================] - 40s 111ms/step - loss: 0.1440 - dice_coefficient: 0.8214 - val_loss: 0.1322 - val_dice_coefficient: 0.8387\n",
            "\n",
            "Epoch 00031: val_loss improved from 0.13231 to 0.13220, saving model to model-tgs-salt.h5\n",
            "Epoch 32/100\n",
            "357/357 [==============================] - 40s 111ms/step - loss: 0.1368 - dice_coefficient: 0.8234 - val_loss: 0.1320 - val_dice_coefficient: 0.8392\n",
            "\n",
            "Epoch 00032: val_loss improved from 0.13220 to 0.13198, saving model to model-tgs-salt.h5\n",
            "Epoch 33/100\n",
            "357/357 [==============================] - 40s 111ms/step - loss: 0.1421 - dice_coefficient: 0.8245 - val_loss: 0.1316 - val_dice_coefficient: 0.8411\n",
            "\n",
            "Epoch 00033: val_loss improved from 0.13198 to 0.13164, saving model to model-tgs-salt.h5\n",
            "Epoch 34/100\n",
            "357/357 [==============================] - 40s 111ms/step - loss: 0.1393 - dice_coefficient: 0.8239 - val_loss: 0.1320 - val_dice_coefficient: 0.8402\n",
            "\n",
            "Epoch 00034: val_loss did not improve from 0.13164\n",
            "Epoch 35/100\n",
            "357/357 [==============================] - 40s 111ms/step - loss: 0.1420 - dice_coefficient: 0.8258 - val_loss: 0.1315 - val_dice_coefficient: 0.8409\n",
            "\n",
            "Epoch 00035: val_loss improved from 0.13164 to 0.13149, saving model to model-tgs-salt.h5\n",
            "Epoch 36/100\n",
            "357/357 [==============================] - 40s 111ms/step - loss: 0.1430 - dice_coefficient: 0.8242 - val_loss: 0.1318 - val_dice_coefficient: 0.8400\n",
            "\n",
            "Epoch 00036: ReduceLROnPlateau reducing learning rate to 1.2149999747634865e-05.\n",
            "\n",
            "Epoch 00036: val_loss did not improve from 0.13149\n",
            "Epoch 37/100\n",
            "357/357 [==============================] - 40s 111ms/step - loss: 0.1467 - dice_coefficient: 0.8208 - val_loss: 0.1317 - val_dice_coefficient: 0.8406\n",
            "\n",
            "Epoch 00037: val_loss did not improve from 0.13149\n",
            "Epoch 38/100\n",
            "357/357 [==============================] - 40s 111ms/step - loss: 0.1405 - dice_coefficient: 0.8279 - val_loss: 0.1315 - val_dice_coefficient: 0.8414\n",
            "\n",
            "Epoch 00038: val_loss improved from 0.13149 to 0.13147, saving model to model-tgs-salt.h5\n",
            "Epoch 39/100\n",
            "357/357 [==============================] - 40s 111ms/step - loss: 0.1428 - dice_coefficient: 0.8209 - val_loss: 0.1315 - val_dice_coefficient: 0.8409\n",
            "\n",
            "Epoch 00039: val_loss did not improve from 0.13147\n",
            "Epoch 40/100\n",
            "357/357 [==============================] - 39s 111ms/step - loss: 0.1403 - dice_coefficient: 0.8229 - val_loss: 0.1314 - val_dice_coefficient: 0.8410\n",
            "\n",
            "Epoch 00040: val_loss improved from 0.13147 to 0.13137, saving model to model-tgs-salt.h5\n",
            "Epoch 41/100\n",
            "357/357 [==============================] - 39s 111ms/step - loss: 0.1392 - dice_coefficient: 0.8266 - val_loss: 0.1315 - val_dice_coefficient: 0.8401\n",
            "\n",
            "Epoch 00041: val_loss did not improve from 0.13137\n",
            "Epoch 42/100\n",
            "357/357 [==============================] - 40s 111ms/step - loss: 0.1391 - dice_coefficient: 0.8265 - val_loss: 0.1311 - val_dice_coefficient: 0.8422\n",
            "\n",
            "Epoch 00042: val_loss improved from 0.13137 to 0.13107, saving model to model-tgs-salt.h5\n",
            "Epoch 43/100\n",
            "357/357 [==============================] - 39s 111ms/step - loss: 0.1404 - dice_coefficient: 0.8283 - val_loss: 0.1317 - val_dice_coefficient: 0.8414\n",
            "\n",
            "Epoch 00043: ReduceLROnPlateau reducing learning rate to 1e-05.\n",
            "\n",
            "Epoch 00043: val_loss did not improve from 0.13107\n",
            "Epoch 44/100\n",
            "357/357 [==============================] - 40s 111ms/step - loss: 0.1402 - dice_coefficient: 0.8220 - val_loss: 0.1314 - val_dice_coefficient: 0.8405\n",
            "\n",
            "Epoch 00044: val_loss did not improve from 0.13107\n",
            "Epoch 45/100\n",
            "357/357 [==============================] - 40s 111ms/step - loss: 0.1359 - dice_coefficient: 0.8275 - val_loss: 0.1313 - val_dice_coefficient: 0.8415\n",
            "\n",
            "Epoch 00045: val_loss did not improve from 0.13107\n",
            "Epoch 46/100\n",
            "357/357 [==============================] - 40s 111ms/step - loss: 0.1383 - dice_coefficient: 0.8293 - val_loss: 0.1309 - val_dice_coefficient: 0.8413\n",
            "\n",
            "Epoch 00046: val_loss improved from 0.13107 to 0.13090, saving model to model-tgs-salt.h5\n",
            "Epoch 47/100\n",
            "357/357 [==============================] - 40s 111ms/step - loss: 0.1397 - dice_coefficient: 0.8263 - val_loss: 0.1311 - val_dice_coefficient: 0.8414\n",
            "\n",
            "Epoch 00047: val_loss did not improve from 0.13090\n",
            "Epoch 48/100\n",
            "357/357 [==============================] - 40s 111ms/step - loss: 0.1428 - dice_coefficient: 0.8233 - val_loss: 0.1314 - val_dice_coefficient: 0.8415\n",
            "\n",
            "Epoch 00048: val_loss did not improve from 0.13090\n",
            "Epoch 49/100\n",
            "357/357 [==============================] - 40s 111ms/step - loss: 0.1409 - dice_coefficient: 0.8242 - val_loss: 0.1315 - val_dice_coefficient: 0.8402\n",
            "\n",
            "Epoch 00049: val_loss did not improve from 0.13090\n",
            "Epoch 50/100\n",
            "357/357 [==============================] - 40s 111ms/step - loss: 0.1428 - dice_coefficient: 0.8235 - val_loss: 0.1311 - val_dice_coefficient: 0.8420\n",
            "\n",
            "Epoch 00050: val_loss did not improve from 0.13090\n",
            "Epoch 51/100\n",
            "357/357 [==============================] - 39s 111ms/step - loss: 0.1460 - dice_coefficient: 0.8199 - val_loss: 0.1314 - val_dice_coefficient: 0.8413\n",
            "\n",
            "Epoch 00051: val_loss did not improve from 0.13090\n",
            "Epoch 52/100\n",
            "357/357 [==============================] - 40s 111ms/step - loss: 0.1395 - dice_coefficient: 0.8277 - val_loss: 0.1311 - val_dice_coefficient: 0.8420\n",
            "\n",
            "Epoch 00052: val_loss did not improve from 0.13090\n",
            "Epoch 53/100\n",
            "357/357 [==============================] - 40s 111ms/step - loss: 0.1467 - dice_coefficient: 0.8203 - val_loss: 0.1315 - val_dice_coefficient: 0.8406\n",
            "\n",
            "Epoch 00053: val_loss did not improve from 0.13090\n",
            "Epoch 54/100\n",
            "357/357 [==============================] - 40s 111ms/step - loss: 0.1407 - dice_coefficient: 0.8224 - val_loss: 0.1309 - val_dice_coefficient: 0.8421\n",
            "\n",
            "Epoch 00054: val_loss improved from 0.13090 to 0.13088, saving model to model-tgs-salt.h5\n",
            "Epoch 55/100\n",
            "357/357 [==============================] - 40s 111ms/step - loss: 0.1409 - dice_coefficient: 0.8254 - val_loss: 0.1313 - val_dice_coefficient: 0.8411\n",
            "\n",
            "Epoch 00055: val_loss did not improve from 0.13088\n",
            "Epoch 56/100\n",
            "357/357 [==============================] - 40s 111ms/step - loss: 0.1408 - dice_coefficient: 0.8239 - val_loss: 0.1312 - val_dice_coefficient: 0.8410\n",
            "\n",
            "Epoch 00056: val_loss did not improve from 0.13088\n",
            "Epoch 57/100\n",
            "357/357 [==============================] - 40s 111ms/step - loss: 0.1403 - dice_coefficient: 0.8280 - val_loss: 0.1312 - val_dice_coefficient: 0.8415\n",
            "\n",
            "Epoch 00057: val_loss did not improve from 0.13088\n",
            "Epoch 58/100\n",
            "357/357 [==============================] - 40s 111ms/step - loss: 0.1373 - dice_coefficient: 0.8274 - val_loss: 0.1311 - val_dice_coefficient: 0.8420\n",
            "\n",
            "Epoch 00058: val_loss did not improve from 0.13088\n",
            "Epoch 59/100\n",
            "357/357 [==============================] - 40s 111ms/step - loss: 0.1406 - dice_coefficient: 0.8245 - val_loss: 0.1311 - val_dice_coefficient: 0.8405\n",
            "\n",
            "Epoch 00059: val_loss did not improve from 0.13088\n",
            "Epoch 60/100\n",
            "357/357 [==============================] - 40s 111ms/step - loss: 0.1373 - dice_coefficient: 0.8278 - val_loss: 0.1309 - val_dice_coefficient: 0.8419\n",
            "\n",
            "Epoch 00060: val_loss did not improve from 0.13088\n",
            "Epoch 61/100\n",
            "357/357 [==============================] - 40s 111ms/step - loss: 0.1402 - dice_coefficient: 0.8236 - val_loss: 0.1312 - val_dice_coefficient: 0.8413\n",
            "\n",
            "Epoch 00061: val_loss did not improve from 0.13088\n",
            "Epoch 62/100\n",
            "357/357 [==============================] - 40s 111ms/step - loss: 0.1378 - dice_coefficient: 0.8254 - val_loss: 0.1312 - val_dice_coefficient: 0.8411\n",
            "\n",
            "Epoch 00062: val_loss did not improve from 0.13088\n",
            "Epoch 63/100\n",
            "357/357 [==============================] - 40s 111ms/step - loss: 0.1360 - dice_coefficient: 0.8304 - val_loss: 0.1313 - val_dice_coefficient: 0.8414\n",
            "\n",
            "Epoch 00063: val_loss did not improve from 0.13088\n",
            "Epoch 64/100\n",
            "357/357 [==============================] - 40s 111ms/step - loss: 0.1396 - dice_coefficient: 0.8228 - val_loss: 0.1311 - val_dice_coefficient: 0.8412\n",
            "\n",
            "Epoch 00064: val_loss did not improve from 0.13088\n",
            "Epoch 00064: early stopping\n"
          ],
          "name": "stdout"
        }
      ]
    },
    {
      "cell_type": "code",
      "metadata": {
        "id": "JP0ybp9bd3F2",
        "colab": {
          "base_uri": "https://localhost:8080/",
          "height": 174
        },
        "outputId": "cf3388ac-97ae-41de-f89d-0fe245128fc6"
      },
      "source": [
        "plt.plot(modelUnetv2)"
      ],
      "execution_count": null,
      "outputs": [
        {
          "output_type": "error",
          "ename": "NameError",
          "evalue": "ignored",
          "traceback": [
            "\u001b[0;31m---------------------------------------------------------------------------\u001b[0m",
            "\u001b[0;31mNameError\u001b[0m                                 Traceback (most recent call last)",
            "\u001b[0;32m<ipython-input-1-94a57496d2ec>\u001b[0m in \u001b[0;36m<module>\u001b[0;34m()\u001b[0m\n\u001b[0;32m----> 1\u001b[0;31m \u001b[0mplt\u001b[0m\u001b[0;34m.\u001b[0m\u001b[0mplot\u001b[0m\u001b[0;34m(\u001b[0m\u001b[0mmodelUnetv2\u001b[0m\u001b[0;34m)\u001b[0m\u001b[0;34m\u001b[0m\u001b[0;34m\u001b[0m\u001b[0m\n\u001b[0m",
            "\u001b[0;31mNameError\u001b[0m: name 'plt' is not defined"
          ]
        }
      ]
    },
    {
      "cell_type": "code",
      "metadata": {
        "id": "eSNUjfaKfbI6"
      },
      "source": [
        "utils.plot_model(modelUnetv2, expand_nested=True, show_shapes=True)"
      ],
      "execution_count": null,
      "outputs": []
    },
    {
      "cell_type": "code",
      "metadata": {
        "id": "cC2OZzXAd3F3"
      },
      "source": [
        "threshold_best_2 = evaluaWithVal(modelUnetv2, X_val, y_val)"
      ],
      "execution_count": null,
      "outputs": []
    },
    {
      "cell_type": "markdown",
      "metadata": {
        "id": "1jXvoe47hCbI"
      },
      "source": [
        ""
      ]
    },
    {
      "cell_type": "markdown",
      "metadata": {
        "id": "mcRbidQvd3F3"
      },
      "source": [
        "## SegNet v1: Basic SegNet"
      ]
    },
    {
      "cell_type": "markdown",
      "metadata": {
        "id": "tf52LJOad3F4"
      },
      "source": [
        "![alt text](https://www.researchgate.net/profile/Adam-Czajka-3/publication/326151825/figure/fig2/AS:647447659438083@1531374959468/Encoder-decoder-architecture-of-SegNet-Inference-takes-place-from-left-to-right-Size-of.png)"
      ]
    },
    {
      "cell_type": "code",
      "metadata": {
        "id": "DweJcatmd3F4"
      },
      "source": [
        "def conv_block_encoder(tensor, n_filter, kernel_size = 3, drop= 0.2):\n",
        "    # Conv layer 1\n",
        "    enconv = Conv2D(n_filter, kernel_size= (kernel_size, kernel_size), padding= 'same')(tensor)\n",
        "    enconv = BatchNormalization()(enconv)\n",
        "    enconv = Activation('relu')(enconv)\n",
        "    # Conv layer 2\n",
        "    enconv = Conv2D(n_filter, kernel_size= (kernel_size, kernel_size), padding= 'same')(enconv)\n",
        "    enconv = BatchNormalization()(enconv)\n",
        "    enconv = Activation('relu')(enconv)\n",
        "    # Pooling layer\n",
        "    enconv = MaxPooling2D((2, 2))(enconv)\n",
        "    enconv = Dropout(drop)(enconv)\n",
        "    \n",
        "    return enconv\n",
        "    \n",
        "def conv_block_decoder(tensor, n_filter, kernel_size = 3, drop= 0.2):\n",
        "    # Upsampling layer\n",
        "    deconv = UpSampling2D((2, 2))(tensor)\n",
        "    # Conv layer 1\n",
        "    deconv = Conv2D(n_filter, kernel_size= (kernel_size, kernel_size), padding= 'same', )(deconv)\n",
        "    deconv = BatchNormalization()(deconv)\n",
        "    deconv = Activation('relu')(deconv)\n",
        "    # Conv layer 2\n",
        "    deconv = Conv2D(n_filter, kernel_size= (kernel_size, kernel_size), padding= 'same')(deconv)\n",
        "    deconv = BatchNormalization()(deconv)\n",
        "    deconv = Activation('relu')(deconv)\n",
        "\n",
        "    return deconv\n",
        "\n",
        "def SegNetv1(img_size):\n",
        "    # Encoder\n",
        "    enconv1 = conv_block_encoder(img_size, 16, 3, 0.2)\n",
        "    enconv2 = conv_block_encoder(enconv1, 32, 3, 0.2)\n",
        "    enconv3 = conv_block_encoder(enconv2, 64, 3, 0.2)\n",
        "    enconv4 = conv_block_encoder(enconv3, 128, 3, 0.2)\n",
        "    enconv5 = conv_block_encoder(enconv4, 256, 3, 0.2)\n",
        "\n",
        "    # Decoder\n",
        "    deconv1 = conv_block_decoder(enconv5, 256, 3, 0.2)\n",
        "    deconv2 = conv_block_decoder(deconv1, 128, 3, 0.2)\n",
        "    deconv3 = conv_block_decoder(deconv2, 64, 3, 0.2)\n",
        "    deconv4 = conv_block_decoder(deconv3, 32, 3, 0.2)\n",
        "    deconv5 = conv_block_decoder(deconv4, 16, 3, 0.2)\n",
        "\n",
        "    # Softmax layer\n",
        "    outputs = Conv2D(1, (1, 1), activation='sigmoid')(deconv5)\n",
        "    model = Model(inputs=[img_size], outputs=[outputs])\n",
        "\n",
        "    return model"
      ],
      "execution_count": null,
      "outputs": []
    },
    {
      "cell_type": "code",
      "metadata": {
        "id": "NttI8Ecld3F5"
      },
      "source": [
        "modelSegNetv1= buildModel(SegNetv1)"
      ],
      "execution_count": null,
      "outputs": []
    },
    {
      "cell_type": "code",
      "metadata": {
        "id": "Q2rZlBn-d3F6"
      },
      "source": [
        "# Callbacks func\n",
        "callbacks = [\n",
        "    EarlyStopping(patience=20, verbose=1),\n",
        "    ReduceLROnPlateau(mode='max',factor=0.3, patience=7, min_lr=0.00001, verbose=1),\n",
        "    ModelCheckpoint('model-tgs-salt.h5', verbose=1, save_best_only=True, save_weights_only=True)\n",
        "]"
      ],
      "execution_count": null,
      "outputs": []
    },
    {
      "cell_type": "code",
      "metadata": {
        "id": "i4y9y4j8d3F6"
      },
      "source": [
        "results_2 = modelSegNetv1.fit(X_train, y_train, batch_size= 32, epochs=100, callbacks=callbacks,\\\n",
        "                    validation_data=(X_val, y_val))"
      ],
      "execution_count": null,
      "outputs": []
    },
    {
      "cell_type": "code",
      "metadata": {
        "id": "6iWVkCMKd3F7"
      },
      "source": [
        "threshold_best_3 = evaluaWithVal(modelSegNetv1, X_val, y_val)"
      ],
      "execution_count": null,
      "outputs": []
    },
    {
      "cell_type": "markdown",
      "metadata": {
        "id": "AKqz2zYQd3F7"
      },
      "source": [
        "## SegNet v2: For now, best model with 77% in Kaggle"
      ]
    },
    {
      "cell_type": "markdown",
      "metadata": {
        "id": "lsxMLuTBd3F7"
      },
      "source": [
        "Try other interpolation= 'bilinear' in UpSampling2D"
      ]
    },
    {
      "cell_type": "code",
      "metadata": {
        "id": "4szOiefjd3F8"
      },
      "source": [
        "def conv_block_encoder(tensor, n_filter, kernel_size = 3, drop= 0.2):\n",
        "    # Conv layer 1\n",
        "    enconv = Conv2D(n_filter, kernel_size= (kernel_size, kernel_size), padding= 'same', )(tensor)\n",
        "    enconv = BatchNormalization()(enconv)\n",
        "    enconv = Activation('relu')(enconv)\n",
        "    # Conv layer 2\n",
        "    enconv = Conv2D(n_filter, kernel_size= (kernel_size, kernel_size), padding= 'same')(enconv)\n",
        "    enconv = BatchNormalization()(enconv)\n",
        "    enconv = Activation('relu')(enconv)\n",
        "    # Pooling layer\n",
        "    enconv = MaxPooling2D((2, 2))(enconv)\n",
        "    enconv = Dropout(drop)(enconv)\n",
        "    \n",
        "    return enconv\n",
        "    \n",
        "def conv_block_decoder(tensor, n_filter, kernel_size = 3, drop= 0.2):\n",
        "    # Upsampling layer\n",
        "    deconv = UpSampling2D((2, 2), interpolation= 'bilinear')(tensor)\n",
        "    # Conv layer 1\n",
        "    deconv = Conv2D(n_filter, kernel_size= (kernel_size, kernel_size), padding= 'same', )(deconv)\n",
        "    deconv = BatchNormalization()(deconv)\n",
        "    deconv = Activation('relu')(deconv)\n",
        "    # Conv layer 2\n",
        "    deconv = Conv2D(n_filter, kernel_size= (kernel_size, kernel_size), padding= 'same')(deconv)\n",
        "    deconv = BatchNormalization()(deconv)\n",
        "    deconv = Activation('relu')(deconv)\n",
        "\n",
        "    return deconv"
      ],
      "execution_count": null,
      "outputs": []
    },
    {
      "cell_type": "code",
      "metadata": {
        "id": "ENw-2tHid3F8"
      },
      "source": [
        "def SegNetv2(img_size):\n",
        "    # Encoder\n",
        "    enconv1 = conv_block_encoder(img_size, 16, 3, 0.2)\n",
        "    enconv2 = conv_block_encoder(enconv1, 32, 3, 0.2)\n",
        "    enconv3 = conv_block_encoder(enconv2, 64, 3, 0.2)\n",
        "    enconv4 = conv_block_encoder(enconv3, 128, 3, 0.2)\n",
        "    enconv5 = conv_block_encoder(enconv4, 256, 3, 0.2)\n",
        "\n",
        "    # Decoder\n",
        "    deconv1 = conv_block_decoder(enconv5, 256, 3, 0.2)\n",
        "    deconv2 = conv_block_decoder(deconv1, 128, 3, 0.2)\n",
        "    deconv3 = conv_block_decoder(deconv2, 64, 3, 0.2)\n",
        "    deconv4 = conv_block_decoder(deconv3, 32, 3, 0.2)\n",
        "    deconv5 = conv_block_decoder(deconv4, 16, 3, 0.2)\n",
        "\n",
        "    # Softmax layer\n",
        "    outputs = Conv2D(1, (1, 1), activation='sigmoid')(deconv5)\n",
        "    model = Model(inputs=[img_size], outputs=[outputs])\n",
        "\n",
        "    return model"
      ],
      "execution_count": null,
      "outputs": []
    },
    {
      "cell_type": "code",
      "metadata": {
        "id": "CYtD0-kxd3F9"
      },
      "source": [
        "modelSegNetv2= buildModel(SegNetv2)"
      ],
      "execution_count": null,
      "outputs": []
    },
    {
      "cell_type": "code",
      "metadata": {
        "id": "wnXQnbQwd3F9"
      },
      "source": [
        "callbacks = [\n",
        "    EarlyStopping(patience=17, verbose=1),\n",
        "    ReduceLROnPlateau(mode='max',factor=0.3, patience=7, min_lr=0.0000001, verbose=1),\n",
        "    ModelCheckpoint('model-tgs-salt.h5', verbose=1, save_best_only=True, save_weights_only=True)\n",
        "]"
      ],
      "execution_count": null,
      "outputs": []
    },
    {
      "cell_type": "code",
      "metadata": {
        "id": "vynW5yyKd3F-"
      },
      "source": [
        "results = modelSegNetv2.fit(X_train, y_train, batch_size= 32, epochs=75, callbacks=callbacks,\\\n",
        "                    validation_data=(X_val, y_val))"
      ],
      "execution_count": null,
      "outputs": []
    },
    {
      "cell_type": "code",
      "metadata": {
        "id": "J4yvG910d3F-"
      },
      "source": [
        "threshold_best_4 = evaluaWithVal(modelSegNetv2)"
      ],
      "execution_count": null,
      "outputs": []
    },
    {
      "cell_type": "markdown",
      "metadata": {
        "id": "N4S55pOGd3F-"
      },
      "source": [
        "## Test model with validation dataset"
      ]
    },
    {
      "cell_type": "code",
      "metadata": {
        "id": "6a6X3u5qd3F_"
      },
      "source": [
        "def evaluateModel(mod, X_train, X_val, y_val, threshold_best):\n",
        "    # Evaluate with Validation set\n",
        "    eva = model.evaluate(X_val, y_val, verbose=1)\n",
        "    print(eva)\n",
        "    \n",
        "    # Predicted\n",
        "    preds_train = model.predict(X_train, verbose=1)\n",
        "    preds_val = model.predict(X_val, verbose=1)\n",
        "    \n",
        "    # Threshold predictions\n",
        "    preds_train_t = (preds_train > threshold_best).astype(np.uint8)\n",
        "    preds_val_t = (preds_val > threshold_best).astype(np.uint8)\n",
        "    \n",
        "    return preds_train, preds_val, preds_train_t, preds_val_t"
      ],
      "execution_count": null,
      "outputs": []
    },
    {
      "cell_type": "code",
      "metadata": {
        "id": "MwE-DmKKd3F_"
      },
      "source": [
        "preds_train, preds_val, preds_train_t, preds_val_t = evaluateModel(modelUnetv2, X_train, X_val, y_val, threshold_best)"
      ],
      "execution_count": null,
      "outputs": []
    },
    {
      "cell_type": "code",
      "metadata": {
        "id": "9drLlTSdd3GA"
      },
      "source": [
        "def plot_sample(X, y, preds, binary_preds, ix=None):\n",
        "    \"\"\"Function to plot the results\"\"\"\n",
        "    if ix is None:\n",
        "        ix = random.randint(0, len(X))\n",
        "\n",
        "    has_mask = y[ix].max() > 0\n",
        "\n",
        "    fig, ax = plt.subplots(1, 4, figsize=(11, 6))\n",
        "    ax[0].imshow(X[ix, ..., 0], cmap='seismic')\n",
        "    if has_mask:\n",
        "        ax[0].contour(y[ix].squeeze(), colors='k', levels=[0.5])\n",
        "    ax[0].set_title('Seismic')\n",
        "\n",
        "    ax[1].imshow(y[ix].squeeze())\n",
        "    ax[1].set_title('Salt')\n",
        "\n",
        "    ax[2].imshow(preds[ix].squeeze(), vmin=0, vmax=1)\n",
        "    if has_mask:\n",
        "        ax[2].contour(y[ix].squeeze(), colors='k', levels=[0.5])\n",
        "    ax[2].set_title('Salt Predicted')\n",
        "    \n",
        "    ax[3].imshow(binary_preds[ix].squeeze(), vmin=0, vmax=1)\n",
        "    if has_mask:\n",
        "        ax[3].contour(y[ix].squeeze(), colors='k', levels=[0.5])\n",
        "    ax[3].set_title('Salt Predicted binary');"
      ],
      "execution_count": null,
      "outputs": []
    },
    {
      "cell_type": "code",
      "metadata": {
        "id": "nx5s6fjod3GA"
      },
      "source": [
        "plot_sample(X_train, y_train, preds_train, preds_train_t, ix=1234)"
      ],
      "execution_count": null,
      "outputs": []
    },
    {
      "cell_type": "code",
      "metadata": {
        "id": "eZkGTuX2d3GB"
      },
      "source": [
        "plot_sample(X_train, y_train, preds_train, preds_train_t, ix= 2801)"
      ],
      "execution_count": null,
      "outputs": []
    },
    {
      "cell_type": "code",
      "metadata": {
        "id": "49wt90tWd3GB"
      },
      "source": [
        "plot_sample(X_train, y_train, preds_train, preds_train_t, ix= 49)"
      ],
      "execution_count": null,
      "outputs": []
    },
    {
      "cell_type": "markdown",
      "metadata": {
        "id": "JWzcP_aGd3GC"
      },
      "source": [
        "## Model predicted for test set and submis code"
      ]
    },
    {
      "cell_type": "code",
      "metadata": {
        "id": "H6nc37E2d3GC"
      },
      "source": [
        "test_dir = os.listdir('/content/test/images')\n",
        "X_test = np.zeros((len(test_dir), 128, 128, 1), dtype=np.float32)\n",
        "sizes_test = []\n",
        "\n",
        "for n, id_ in tqdm_notebook(enumerate(test_dir), total=len(test_dir)):\n",
        "    img = load_img(\"/content/test/images/\" + id_ , grayscale=True)\n",
        "    test_img = img_to_array(img)\n",
        "    sizes_test.append([test_img.shape[0], test_img.shape[1]])\n",
        "    test_img = resize(test_img, (128, 128, 1), mode = 'constant', preserve_range = True)\n",
        "    X_test[n] = test_img / 255"
      ],
      "execution_count": null,
      "outputs": []
    },
    {
      "cell_type": "code",
      "metadata": {
        "id": "U7W9PyCfd3GC"
      },
      "source": [
        "def predictTestSet(mod):\n",
        "    preds_test = mod.predict(X_test, verbose=1)\n",
        "    preds_test_upsampled = []\n",
        "    for i in trange(len(preds_test)):\n",
        "        preds_test_upsampled.append(resize(\n",
        "            np.squeeze(preds_test[i]), (sizes_test[i][0], sizes_test[i][1]),  mode='constant', preserve_range=True\n",
        "        ))\n",
        "    return preds_test_upsampled"
      ],
      "execution_count": null,
      "outputs": []
    },
    {
      "cell_type": "code",
      "metadata": {
        "id": "UbWs2NuYd3GD"
      },
      "source": [
        "def RLenc(img, order='F', format=True):\n",
        "    \"\"\"\n",
        "    img is binary mask image, shape (r,c)\n",
        "    order is down-then-right, i.e. Fortran\n",
        "    format determines if the order needs to be preformatted (according to submission rules) or not\n",
        "\n",
        "    returns run length as an array or string (if format is True)\n",
        "    \"\"\"\n",
        "    bytes = img.reshape(img.shape[0] * img.shape[1], order=order)\n",
        "    runs = []  ## list of run lengths\n",
        "    r = 0  ## the current run length\n",
        "    pos = 1  ## count starts from 1 per WK\n",
        "    for c in bytes:\n",
        "        if (c == 0):\n",
        "            if r != 0:\n",
        "                runs.append((pos, r))\n",
        "                pos += r\n",
        "                r = 0\n",
        "            pos += 1\n",
        "        else:\n",
        "            r += 1\n",
        "\n",
        "    # if last run is unsaved (i.e. data ends with 1)\n",
        "    if r != 0:\n",
        "        runs.append((pos, r))\n",
        "        pos += r\n",
        "        r = 0\n",
        "\n",
        "    if format:\n",
        "        z = ''\n",
        "\n",
        "        for rr in runs:\n",
        "            z += '{} {} '.format(rr[0], rr[1])\n",
        "        return z[:-1]\n",
        "    else:\n",
        "        return runs\n",
        "\n",
        "def predic_dictionary(mod, threshold_best, test_dir):\n",
        "    preds_test = predictTestSet(mod)\n",
        "    pred_dict = {\n",
        "        fn[:-4]:RLenc(np.round(preds_test[i] > threshold_best)) \n",
        "        for i,fn in tqdm(enumerate(test_dir), total=len(test_dir))\n",
        "    }\n",
        "    return pred_dict\n",
        "\n",
        "pred_dict = predic_dictionary(modelUnetv2, threshold_best_2, test_dir)"
      ],
      "execution_count": null,
      "outputs": []
    },
    {
      "cell_type": "code",
      "metadata": {
        "id": "58lpo6Z5d3GD"
      },
      "source": [
        "sub = pd.DataFrame.from_dict(pred_dict, orient='index')\n",
        "sub.index.names = ['id'] \n",
        "sub.columns = ['rle_mask']\n",
        "sub.to_csv('submission.csv')"
      ],
      "execution_count": null,
      "outputs": []
    }
  ]
}